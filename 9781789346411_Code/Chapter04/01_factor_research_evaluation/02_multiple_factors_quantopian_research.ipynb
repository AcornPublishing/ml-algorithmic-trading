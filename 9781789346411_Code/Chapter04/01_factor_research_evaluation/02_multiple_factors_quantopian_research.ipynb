{
 "cells": [
  {
   "cell_type": "code",
   "execution_count": null,
   "metadata": {
    "ExecuteTime": {
     "end_time": "2018-07-23T04:36:01.647259Z",
     "start_time": "2018-07-23T04:36:01.555385Z"
    }
   },
   "outputs": [],
   "source": [
    "from quantopian.research import run_pipeline\n",
    "from quantopian.pipeline import Pipeline\n",
    "from quantopian.pipeline.data.builtin import USEquityPricing\n",
    "from quantopian.pipeline.data.morningstar import income_statement, operation_ratios, balance_sheet\n",
    "from quantopian.pipeline.data.psychsignal import stocktwits\n",
    "from quantopian.pipeline.factors import CustomFactor, SimpleMovingAverage, Returns\n",
    "from quantopian.pipeline.filters import QTradableStocksUS\n",
    "\n",
    "import numpy as np\n",
    "import pandas as pd\n",
    "from time import time"
   ]
  },
  {
   "cell_type": "code",
   "execution_count": 8,
   "metadata": {
    "collapsed": true
   },
   "outputs": [],
   "source": [
    "# periods in trading days\n",
    "MONTH = 21\n",
    "QTR = 4 * MONTH\n",
    "YEAR = 12 * MONTH"
   ]
  },
  {
   "cell_type": "code",
   "execution_count": 12,
   "metadata": {
    "collapsed": true
   },
   "outputs": [],
   "source": [
    "class AggregateFundamentals(CustomFactor):  \n",
    "    def compute(self, today, assets, out, inputs):  \n",
    "        out[:] = inputs[0]\n",
    "\n",
    "        \n",
    "class MeanReversion(CustomFactor):\n",
    "    inputs = [Returns(window_length=MONTH)]\n",
    "    window_length = YEAR\n",
    "\n",
    "    def compute(self, today, assets, out, monthly_returns):\n",
    "        df = pd.DataFrame(monthly_returns)\n",
    "        out[:] = df.iloc[-1].sub(df.mean()).div(df.std())\n",
    "        \n",
    "        \n",
    "def compute_factors():\n",
    "\n",
    "    universe = QTradableStocksUS()        \n",
    "    \n",
    "    profitability = (AggregateFundamentals(inputs = [income_statement.gross_profit], \n",
    "                                           window_length = YEAR) / \n",
    "                     balance_sheet.total_assets.latest).rank(mask=universe)\n",
    "\n",
    "    roic = operation_ratios.roic.latest.rank(mask=universe)\n",
    "        \n",
    "    ebitda_yield = (AggregateFundamentals(inputs = [income_statement.ebitda], \n",
    "                                          window_length = YEAR) /\n",
    "                    USEquityPricing.close.latest).rank(mask=universe)\n",
    "\n",
    "    mean_reversion = MeanReversion().rank(mask=universe)\n",
    "    \n",
    "    price_momentum = Returns(window_length=QTR).rank(mask=universe)\n",
    "    \n",
    "    sentiment = SimpleMovingAverage(inputs=[stocktwits.bull_minus_bear],\n",
    "                                    window_length=5).rank(mask=universe)   \n",
    "\n",
    "    factor = profitability + roic + ebitda_yield + mean_reversion + price_momentum + sentiment    \n",
    "    \n",
    "    return Pipeline(\n",
    "        columns={'Profitability': profitability,  \n",
    "               'ROIC': roic,\n",
    "               'EBITDA Yield': ebitda_yield,\n",
    "               \"Mean Reversion (1M)\": mean_reversion,\n",
    "               'Sentiment': sentiment,\n",
    "               \"Price Momentum (3M)\": price_momentum,\n",
    "               'Alpha Factor': factor})    "
   ]
  },
  {
   "cell_type": "code",
   "execution_count": null,
   "metadata": {},
   "outputs": [],
   "source": [
    "start_timer = time()\n",
    "start = pd.Timestamp(\"2015-01-01\")\n",
    "end = pd.Timestamp(\"2018-01-01\")\n",
    "results = run_pipeline(compute_factors(), start_date=start, end_date=end)\n",
    "results.index.names = ['date', 'security']\n",
    "print(\"Pipeline run time {:.2f} secs\".format(time() - start_timer))"
   ]
  },
  {
   "cell_type": "code",
   "execution_count": null,
   "metadata": {},
   "outputs": [],
   "source": [
    "results.head()"
   ]
  },
  {
   "cell_type": "code",
   "execution_count": null,
   "metadata": {
    "collapsed": true
   },
   "outputs": [],
   "source": []
  }
 ],
 "metadata": {
  "kernelspec": {
   "display_name": "Python 3",
   "language": "python",
   "name": "python3"
  },
  "language_info": {
   "codemirror_mode": {
    "name": "ipython",
    "version": 3
   },
   "file_extension": ".py",
   "mimetype": "text/x-python",
   "name": "python",
   "nbconvert_exporter": "python",
   "pygments_lexer": "ipython3",
   "version": "3.6.4"
  },
  "toc": {
   "base_numbering": 1,
   "nav_menu": {},
   "number_sections": true,
   "sideBar": true,
   "skip_h1_title": false,
   "title_cell": "Table of Contents",
   "title_sidebar": "Contents",
   "toc_cell": false,
   "toc_position": {},
   "toc_section_display": true,
   "toc_window_display": false
  }
 },
 "nbformat": 4,
 "nbformat_minor": 2
}
