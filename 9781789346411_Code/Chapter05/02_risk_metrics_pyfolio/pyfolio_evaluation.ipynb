{
 "cells": [
  {
   "cell_type": "code",
   "execution_count": 1,
   "metadata": {
    "ExecuteTime": {
     "end_time": "2018-10-30T22:50:13.791065Z",
     "start_time": "2018-10-30T22:50:13.787373Z"
    }
   },
   "outputs": [],
   "source": [
    "%matplotlib inline\n",
    "from pathlib import Path\n",
    "import warnings\n",
    "import re\n",
    "import numpy as np\n",
    "import pandas as pd\n",
    "import seaborn as sns\n",
    "import matplotlib.pyplot as plt\n",
    "from statsmodels.api import OLS"
   ]
  },
  {
   "cell_type": "code",
   "execution_count": null,
   "metadata": {},
   "outputs": [],
   "source": [
    "from pyfolio.utils import extract_rets_pos_txn_from_zipline\n",
    "from pyfolio.plotting import *\n",
    "from pyfolio.timeseries import * \n",
    "from pyfolio.tears import *"
   ]
  },
  {
   "cell_type": "code",
   "execution_count": 2,
   "metadata": {
    "ExecuteTime": {
     "end_time": "2018-10-30T22:50:14.295057Z",
     "start_time": "2018-10-30T22:50:14.285694Z"
    }
   },
   "outputs": [],
   "source": [
    "plt.style.use('fivethirtyeight')\n",
    "warnings.filterwarnings('ignore')"
   ]
  },
  {
   "cell_type": "code",
   "execution_count": 4,
   "metadata": {
    "ExecuteTime": {
     "end_time": "2018-10-30T22:55:59.395405Z",
     "start_time": "2018-10-30T22:55:59.092129Z"
    }
   },
   "outputs": [
    {
     "name": "stdout",
     "output_type": "stream",
     "text": [
      "<class 'pandas.io.pytables.HDFStore'>\n",
      "File path: ../01_trading_zipline/backtests.h5\n",
      "/backtest                                          frame        (shape->[755,39]) \n",
      "/backtest_long_100_short_0_vol_1500                frame        (shape->[2013,39])\n",
      "/backtest_long_200_short_0_vol_1000                frame        (shape->[2013,39])\n",
      "/positions                                         frame        (shape->[754,1])  \n",
      "/positions_long_100_short_0_vol_1500               frame        (shape->[2012,1]) \n",
      "/positions_long_200_short_0_vol_1000               frame        (shape->[2012,1]) \n",
      "/returns                                           series       (shape->[755])    \n",
      "/returns_long_100_short_0_vol_1500                 series       (shape->[2013])   \n",
      "/returns_long_200_short_0_vol_1000                 series       (shape->[2013])   \n",
      "/transactions                                      frame        (shape->[3548,8]) \n",
      "/transactions_long_100_short_0_vol_1500            frame        (shape->[98556,8])\n",
      "/transactions_long_200_short_0_vol_1000            frame        (shape->[54596,8])\n"
     ]
    }
   ],
   "source": [
    "with pd.HDFStore('../01_trading_zipline/backtests.h5') as store:\n",
    "    print(store.info())\n",
    "    backtest = store['backtest']"
   ]
  },
  {
   "cell_type": "code",
   "execution_count": null,
   "metadata": {},
   "outputs": [],
   "source": [
    "backtest.info()"
   ]
  },
  {
   "cell_type": "markdown",
   "metadata": {},
   "source": [
    "## Converting data from zipline to pyfolio"
   ]
  },
  {
   "cell_type": "code",
   "execution_count": null,
   "metadata": {},
   "outputs": [],
   "source": [
    "returns.head().append(returns.tail())"
   ]
  },
  {
   "cell_type": "code",
   "execution_count": null,
   "metadata": {},
   "outputs": [],
   "source": [
    "positions.columns = [c.symbol for c in positions.columns[:-1]] + ['cash']\n",
    "positions.index = positions.index.normalize()\n",
    "positions.info()"
   ]
  }
 ],
 "metadata": {
  "kernelspec": {
   "display_name": "Python 3",
   "language": "python",
   "name": "python3"
  },
  "language_info": {
   "codemirror_mode": {
    "name": "ipython",
    "version": 3
   },
   "file_extension": ".py",
   "mimetype": "text/x-python",
   "name": "python",
   "nbconvert_exporter": "python",
   "pygments_lexer": "ipython3",
   "version": "3.6.4"
  },
  "toc": {
   "base_numbering": 1,
   "nav_menu": {},
   "number_sections": true,
   "sideBar": true,
   "skip_h1_title": false,
   "title_cell": "Table of Contents",
   "title_sidebar": "Contents",
   "toc_cell": false,
   "toc_position": {},
   "toc_section_display": true,
   "toc_window_display": false
  }
 },
 "nbformat": 4,
 "nbformat_minor": 2
}
