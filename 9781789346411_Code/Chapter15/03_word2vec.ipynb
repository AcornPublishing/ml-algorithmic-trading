{
 "cells": [
  {
   "cell_type": "markdown",
   "metadata": {
    "slideshow": {
     "slide_type": "fragment"
    }
   },
   "source": [
    "## Imports"
   ]
  },
  {
   "cell_type": "code",
   "execution_count": 1,
   "metadata": {
    "ExecuteTime": {
     "end_time": "2018-12-10T06:52:40.090697Z",
     "start_time": "2018-12-10T06:52:39.318699Z"
    },
    "slideshow": {
     "slide_type": "fragment"
    }
   },
   "outputs": [],
   "source": [
    "from time import time\n",
    "from collections import Counter\n",
    "from pathlib import Path\n",
    "import pandas as pd\n",
    "import numpy as np\n",
    "from numpy.linalg import norm\n",
    "from scipy.spatial.distance import cdist, cosine\n",
    "\n",
    "import matplotlib.pyplot as plt\n",
    "\n",
    "from tensorflow.keras.models import Model\n",
    "from tensorflow.keras.layers import Input, Dense, Reshape, Dot, Embedding\n",
    "from tensorflow.keras.preprocessing.sequence import skipgrams, make_sampling_table\n",
    "from tensorflow.keras.callbacks import Callback, TensorBoard\n",
    "\n",
    "from gensim.models import Word2Vec, KeyedVectors\n",
    "from gensim.models.word2vec import LineSentence\n",
    "from sklearn.decomposition import IncrementalPCA"
   ]
  },
  {
   "cell_type": "markdown",
   "metadata": {
    "slideshow": {
     "slide_type": ""
    }
   },
   "source": [
    "### Settings"
   ]
  },
  {
   "cell_type": "code",
   "execution_count": 2,
   "metadata": {
    "ExecuteTime": {
     "end_time": "2018-12-10T06:52:40.096261Z",
     "start_time": "2018-12-10T06:52:40.091941Z"
    },
    "slideshow": {
     "slide_type": "fragment"
    }
   },
   "outputs": [],
   "source": [
    "plt.style.use('ggplot')\n",
    "pd.set_option('float_format', '{:,.2f}'.format)\n",
    "%matplotlib inline\n",
    "np.random.seed(42)"
   ]
  },
  {
   "cell_type": "code",
   "execution_count": 3,
   "metadata": {
    "ExecuteTime": {
     "end_time": "2018-12-10T06:52:40.534840Z",
     "start_time": "2018-12-10T06:52:40.530045Z"
    }
   },
   "outputs": [],
   "source": [
    "PROJECT_DIR = Path().cwd()"
   ]
  },
  {
   "cell_type": "code",
   "execution_count": 4,
   "metadata": {
    "ExecuteTime": {
     "end_time": "2018-12-10T06:52:45.285698Z",
     "start_time": "2018-12-10T06:52:45.283889Z"
    },
    "slideshow": {
     "slide_type": "fragment"
    }
   },
   "outputs": [],
   "source": [
    "LANGUAGES = ['en', 'es']\n",
    "language_dict = dict(zip(LANGUAGES, ['English', 'Spanish']))"
   ]
  },
  {
   "cell_type": "markdown",
   "metadata": {
    "slideshow": {
     "slide_type": "slide"
    }
   },
   "source": [
    "## TED2013 Corpus Statistics"
   ]
  },
  {
   "cell_type": "code",
   "execution_count": 5,
   "metadata": {
    "ExecuteTime": {
     "end_time": "2018-12-10T06:52:46.172123Z",
     "start_time": "2018-12-10T06:52:46.170203Z"
    },
    "slideshow": {
     "slide_type": "fragment"
    }
   },
   "outputs": [],
   "source": [
    "SOURCE = 'TED'\n",
    "LANGUAGE = 'en'"
   ]
  },
  {
   "cell_type": "code",
   "execution_count": 6,
   "metadata": {
    "ExecuteTime": {
     "end_time": "2018-12-10T06:52:47.829019Z",
     "start_time": "2018-12-10T06:52:47.760797Z"
    },
    "slideshow": {
     "slide_type": "fragment"
    }
   },
   "outputs": [
    {
     "name": "stdout",
     "output_type": "stream",
     "text": [
      "<class 'pandas.io.pytables.HDFStore'>\n",
      "File path: vocab/TED/vocab.h5\n",
      "/en/ngrams            frame        (shape->[1758,4])   \n",
      "/en/tokens            frame        (shape->[3130266,3])\n",
      "/en/vocab             frame        (shape->[46176,1])  \n",
      "/es/ngrams            frame        (shape->[1063,4])   \n",
      "/es/tokens            frame        (shape->[2938546,3])\n",
      "/es/vocab             frame        (shape->[74739,1])  \n",
      "/stats                frame        (shape->[3,2])      \n"
     ]
    }
   ],
   "source": [
    "with pd.HDFStore(Path('vocab', SOURCE, 'vocab.h5')) as store:\n",
    "    print(store.info())"
   ]
  },
  {
   "cell_type": "code",
   "execution_count": 7,
   "metadata": {
    "ExecuteTime": {
     "end_time": "2018-12-10T06:52:56.753472Z",
     "start_time": "2018-12-10T06:52:56.687010Z"
    },
    "slideshow": {
     "slide_type": "slide"
    }
   },
   "outputs": [
    {
     "name": "stdout",
     "output_type": "stream",
     "text": [
      "# words: 2,710,455\n"
     ]
    },
    {
     "data": {
      "text/html": [
       "<div>\n",
       "<style scoped>\n",
       "    .dataframe tbody tr th:only-of-type {\n",
       "        vertical-align: middle;\n",
       "    }\n",
       "\n",
       "    .dataframe tbody tr th {\n",
       "        vertical-align: top;\n",
       "    }\n",
       "\n",
       "    .dataframe thead th {\n",
       "        text-align: right;\n",
       "    }\n",
       "</style>\n",
       "<table border=\"1\" class=\"dataframe\">\n",
       "  <thead>\n",
       "    <tr style=\"text-align: right;\">\n",
       "      <th></th>\n",
       "      <th>word_count</th>\n",
       "      <th>freq</th>\n",
       "      <th>n_words</th>\n",
       "      <th>vocab_size</th>\n",
       "      <th>coverage</th>\n",
       "    </tr>\n",
       "  </thead>\n",
       "  <tbody>\n",
       "    <tr>\n",
       "      <th>0</th>\n",
       "      <td>127548</td>\n",
       "      <td>1</td>\n",
       "      <td>127548</td>\n",
       "      <td>1</td>\n",
       "      <td>0.05</td>\n",
       "    </tr>\n",
       "    <tr>\n",
       "      <th>1</th>\n",
       "      <td>90702</td>\n",
       "      <td>1</td>\n",
       "      <td>90702</td>\n",
       "      <td>2</td>\n",
       "      <td>0.08</td>\n",
       "    </tr>\n",
       "    <tr>\n",
       "      <th>2</th>\n",
       "      <td>74494</td>\n",
       "      <td>1</td>\n",
       "      <td>74494</td>\n",
       "      <td>3</td>\n",
       "      <td>0.11</td>\n",
       "    </tr>\n",
       "    <tr>\n",
       "      <th>3</th>\n",
       "      <td>70274</td>\n",
       "      <td>1</td>\n",
       "      <td>70274</td>\n",
       "      <td>4</td>\n",
       "      <td>0.13</td>\n",
       "    </tr>\n",
       "    <tr>\n",
       "      <th>4</th>\n",
       "      <td>64387</td>\n",
       "      <td>1</td>\n",
       "      <td>64387</td>\n",
       "      <td>5</td>\n",
       "      <td>0.16</td>\n",
       "    </tr>\n",
       "    <tr>\n",
       "      <th>893</th>\n",
       "      <td>5</td>\n",
       "      <td>1755</td>\n",
       "      <td>8775</td>\n",
       "      <td>17026</td>\n",
       "      <td>0.98</td>\n",
       "    </tr>\n",
       "    <tr>\n",
       "      <th>894</th>\n",
       "      <td>4</td>\n",
       "      <td>2484</td>\n",
       "      <td>9936</td>\n",
       "      <td>19510</td>\n",
       "      <td>0.98</td>\n",
       "    </tr>\n",
       "    <tr>\n",
       "      <th>895</th>\n",
       "      <td>3</td>\n",
       "      <td>3831</td>\n",
       "      <td>11493</td>\n",
       "      <td>23341</td>\n",
       "      <td>0.99</td>\n",
       "    </tr>\n",
       "    <tr>\n",
       "      <th>896</th>\n",
       "      <td>2</td>\n",
       "      <td>6822</td>\n",
       "      <td>13644</td>\n",
       "      <td>30163</td>\n",
       "      <td>0.99</td>\n",
       "    </tr>\n",
       "    <tr>\n",
       "      <th>897</th>\n",
       "      <td>1</td>\n",
       "      <td>16013</td>\n",
       "      <td>16013</td>\n",
       "      <td>46176</td>\n",
       "      <td>1.00</td>\n",
       "    </tr>\n",
       "  </tbody>\n",
       "</table>\n",
       "</div>"
      ],
      "text/plain": [
       "     word_count   freq  n_words  vocab_size  coverage\n",
       "0        127548      1   127548           1      0.05\n",
       "1         90702      1    90702           2      0.08\n",
       "2         74494      1    74494           3      0.11\n",
       "3         70274      1    70274           4      0.13\n",
       "4         64387      1    64387           5      0.16\n",
       "893           5   1755     8775       17026      0.98\n",
       "894           4   2484     9936       19510      0.98\n",
       "895           3   3831    11493       23341      0.99\n",
       "896           2   6822    13644       30163      0.99\n",
       "897           1  16013    16013       46176      1.00"
      ]
     },
     "execution_count": 7,
     "metadata": {},
     "output_type": "execute_result"
    }
   ],
   "source": [
    "with pd.HDFStore(Path('vocab', SOURCE, 'vocab.h5')) as store:\n",
    "    df = store['{}/vocab'.format(LANGUAGE)]\n",
    "\n",
    "wc = df['count'].value_counts().sort_index(ascending=False).reset_index()\n",
    "wc.columns = ['word_count', 'freq']\n",
    "wc['n_words'] = wc.word_count.mul(wc.freq)\n",
    "\n",
    "wc['corpus_share'] = wc.n_words.div(wc.n_words.sum())\n",
    "wc['coverage'] = wc.corpus_share.cumsum()\n",
    "wc['vocab_size'] = wc.freq.cumsum()\n",
    "\n",
    "print('# words: {:,d}'.format(wc.n_words.sum()))\n",
    "(wc\n",
    " .loc[:, ['word_count', 'freq', 'n_words', 'vocab_size', 'coverage']]\n",
    " .head()\n",
    " .append(wc\n",
    "         .loc[:, ['word_count', 'freq', 'n_words', 'vocab_size', 'coverage']]\n",
    "         .tail()))"
   ]
  },
  {
   "cell_type": "code",
   "execution_count": 8,
   "metadata": {
    "ExecuteTime": {
     "end_time": "2018-12-10T06:52:58.961174Z",
     "start_time": "2018-12-10T06:52:58.951088Z"
    },
    "scrolled": true,
    "slideshow": {
     "slide_type": "slide"
    }
   },
   "outputs": [
    {
     "data": {
      "text/plain": [
       "count   898.00\n",
       "mean      0.09\n",
       "std       0.30\n",
       "min       0.00\n",
       "50%       0.02\n",
       "75%       0.04\n",
       "95%       0.31\n",
       "96%       0.37\n",
       "97%       0.49\n",
       "98%       0.62\n",
       "99%       1.63\n",
       "99.9%     3.49\n",
       "max       4.71\n",
       "Name: word_count, dtype: float64"
      ]
     },
     "execution_count": 8,
     "metadata": {},
     "output_type": "execute_result"
    }
   ],
   "source": [
    "wc.word_count.div(wc.n_words.sum()).mul(100).describe(percentiles=[.5, .75, .95, .96, .97, .98, .99, .999])"
   ]
  },
  {
   "cell_type": "markdown",
   "metadata": {
    "slideshow": {
     "slide_type": "slide"
    }
   },
   "source": [
    "## Evaluation: Analogies"
   ]
  },
  {
   "cell_type": "code",
   "execution_count": 9,
   "metadata": {
    "ExecuteTime": {
     "end_time": "2018-12-10T06:53:02.611652Z",
     "start_time": "2018-12-10T06:53:02.535004Z"
    },
    "slideshow": {
     "slide_type": "fragment"
    }
   },
   "outputs": [],
   "source": [
    "df = pd.read_csv(Path('data', 'analogies', 'analogies-en.txt'), header=None, names=['category'], squeeze=True)\n",
    "categories = df[df.str.startswith(':')]\n",
    "analogies = df[~df.str.startswith(':')].str.split(expand=True)\n",
    "analogies.columns = list('abcd')"
   ]
  },
  {
   "cell_type": "code",
   "execution_count": 10,
   "metadata": {
    "ExecuteTime": {
     "end_time": "2018-12-10T06:53:02.750899Z",
     "start_time": "2018-12-10T06:53:02.724987Z"
    },
    "slideshow": {
     "slide_type": "fragment"
    }
   },
   "outputs": [
    {
     "data": {
      "text/html": [
       "<div>\n",
       "<style scoped>\n",
       "    .dataframe tbody tr th:only-of-type {\n",
       "        vertical-align: middle;\n",
       "    }\n",
       "\n",
       "    .dataframe tbody tr th {\n",
       "        vertical-align: top;\n",
       "    }\n",
       "\n",
       "    .dataframe thead th {\n",
       "        text-align: right;\n",
       "    }\n",
       "</style>\n",
       "<table border=\"1\" class=\"dataframe\">\n",
       "  <thead>\n",
       "    <tr style=\"text-align: right;\">\n",
       "      <th></th>\n",
       "      <th>category</th>\n",
       "      <th>a</th>\n",
       "      <th>b</th>\n",
       "      <th>c</th>\n",
       "      <th>d</th>\n",
       "    </tr>\n",
       "  </thead>\n",
       "  <tbody>\n",
       "    <tr>\n",
       "      <th>1</th>\n",
       "      <td>: capital-common-countries</td>\n",
       "      <td>athens</td>\n",
       "      <td>greece</td>\n",
       "      <td>baghdad</td>\n",
       "      <td>iraq</td>\n",
       "    </tr>\n",
       "    <tr>\n",
       "      <th>2</th>\n",
       "      <td>: capital-common-countries</td>\n",
       "      <td>athens</td>\n",
       "      <td>greece</td>\n",
       "      <td>bangkok</td>\n",
       "      <td>thailand</td>\n",
       "    </tr>\n",
       "    <tr>\n",
       "      <th>3</th>\n",
       "      <td>: capital-common-countries</td>\n",
       "      <td>athens</td>\n",
       "      <td>greece</td>\n",
       "      <td>beijing</td>\n",
       "      <td>china</td>\n",
       "    </tr>\n",
       "    <tr>\n",
       "      <th>4</th>\n",
       "      <td>: capital-common-countries</td>\n",
       "      <td>athens</td>\n",
       "      <td>greece</td>\n",
       "      <td>berlin</td>\n",
       "      <td>germany</td>\n",
       "    </tr>\n",
       "    <tr>\n",
       "      <th>5</th>\n",
       "      <td>: capital-common-countries</td>\n",
       "      <td>athens</td>\n",
       "      <td>greece</td>\n",
       "      <td>bern</td>\n",
       "      <td>switzerland</td>\n",
       "    </tr>\n",
       "  </tbody>\n",
       "</table>\n",
       "</div>"
      ],
      "text/plain": [
       "                       category       a       b        c            d\n",
       "1  : capital-common-countries    athens  greece  baghdad         iraq\n",
       "2  : capital-common-countries    athens  greece  bangkok     thailand\n",
       "3  : capital-common-countries    athens  greece  beijing        china\n",
       "4  : capital-common-countries    athens  greece   berlin      germany\n",
       "5  : capital-common-countries    athens  greece     bern  switzerland"
      ]
     },
     "execution_count": 10,
     "metadata": {},
     "output_type": "execute_result"
    }
   ],
   "source": [
    "df = pd.concat([categories, analogies], axis=1)\n",
    "df.category = df.category.ffill()\n",
    "df = df[df['a'].notnull()]\n",
    "df.head()"
   ]
  },
  {
   "cell_type": "code",
   "execution_count": 11,
   "metadata": {
    "ExecuteTime": {
     "end_time": "2018-12-10T06:53:03.107617Z",
     "start_time": "2018-12-10T06:53:03.068779Z"
    },
    "slideshow": {
     "slide_type": "slide"
    }
   },
   "outputs": [],
   "source": [
    "analogy_cnt = df.groupby('category').size().sort_values(ascending=False).to_frame('n')\n",
    "analogy_example = df.groupby('category').first()"
   ]
  },
  {
   "cell_type": "code",
   "execution_count": 12,
   "metadata": {
    "ExecuteTime": {
     "end_time": "2018-12-10T06:53:05.515262Z",
     "start_time": "2018-12-10T06:53:05.500372Z"
    },
    "slideshow": {
     "slide_type": "slide"
    }
   },
   "outputs": [
    {
     "data": {
      "text/html": [
       "<div>\n",
       "<style scoped>\n",
       "    .dataframe tbody tr th:only-of-type {\n",
       "        vertical-align: middle;\n",
       "    }\n",
       "\n",
       "    .dataframe tbody tr th {\n",
       "        vertical-align: top;\n",
       "    }\n",
       "\n",
       "    .dataframe thead th {\n",
       "        text-align: right;\n",
       "    }\n",
       "</style>\n",
       "<table border=\"1\" class=\"dataframe\">\n",
       "  <thead>\n",
       "    <tr style=\"text-align: right;\">\n",
       "      <th></th>\n",
       "      <th>n</th>\n",
       "      <th>a</th>\n",
       "      <th>b</th>\n",
       "      <th>c</th>\n",
       "      <th>d</th>\n",
       "    </tr>\n",
       "    <tr>\n",
       "      <th>category</th>\n",
       "      <th></th>\n",
       "      <th></th>\n",
       "      <th></th>\n",
       "      <th></th>\n",
       "      <th></th>\n",
       "    </tr>\n",
       "  </thead>\n",
       "  <tbody>\n",
       "    <tr>\n",
       "      <th>: capital-world</th>\n",
       "      <td>8556</td>\n",
       "      <td>abuja</td>\n",
       "      <td>nigeria</td>\n",
       "      <td>accra</td>\n",
       "      <td>ghana</td>\n",
       "    </tr>\n",
       "    <tr>\n",
       "      <th>: city-in-state</th>\n",
       "      <td>4242</td>\n",
       "      <td>chicago</td>\n",
       "      <td>illinois</td>\n",
       "      <td>houston</td>\n",
       "      <td>texas</td>\n",
       "    </tr>\n",
       "    <tr>\n",
       "      <th>: gram6-nationality-adjective</th>\n",
       "      <td>1640</td>\n",
       "      <td>albania</td>\n",
       "      <td>albanian</td>\n",
       "      <td>argentina</td>\n",
       "      <td>argentinean</td>\n",
       "    </tr>\n",
       "    <tr>\n",
       "      <th>: gram7-past-tense</th>\n",
       "      <td>1560</td>\n",
       "      <td>dancing</td>\n",
       "      <td>danced</td>\n",
       "      <td>decreasing</td>\n",
       "      <td>decreased</td>\n",
       "    </tr>\n",
       "    <tr>\n",
       "      <th>: gram8-plural</th>\n",
       "      <td>1332</td>\n",
       "      <td>banana</td>\n",
       "      <td>bananas</td>\n",
       "      <td>bird</td>\n",
       "      <td>birds</td>\n",
       "    </tr>\n",
       "    <tr>\n",
       "      <th>: gram3-comparative</th>\n",
       "      <td>1332</td>\n",
       "      <td>bad</td>\n",
       "      <td>worse</td>\n",
       "      <td>big</td>\n",
       "      <td>bigger</td>\n",
       "    </tr>\n",
       "    <tr>\n",
       "      <th>: gram4-superlative</th>\n",
       "      <td>1122</td>\n",
       "      <td>bad</td>\n",
       "      <td>worst</td>\n",
       "      <td>big</td>\n",
       "      <td>biggest</td>\n",
       "    </tr>\n",
       "    <tr>\n",
       "      <th>: gram5-present-participle</th>\n",
       "      <td>1056</td>\n",
       "      <td>code</td>\n",
       "      <td>coding</td>\n",
       "      <td>dance</td>\n",
       "      <td>dancing</td>\n",
       "    </tr>\n",
       "    <tr>\n",
       "      <th>: gram1-adjective-to-adverb</th>\n",
       "      <td>992</td>\n",
       "      <td>amazing</td>\n",
       "      <td>amazingly</td>\n",
       "      <td>apparent</td>\n",
       "      <td>apparently</td>\n",
       "    </tr>\n",
       "    <tr>\n",
       "      <th>: gram9-plural-verbs</th>\n",
       "      <td>870</td>\n",
       "      <td>decrease</td>\n",
       "      <td>decreases</td>\n",
       "      <td>describe</td>\n",
       "      <td>describes</td>\n",
       "    </tr>\n",
       "    <tr>\n",
       "      <th>: currency</th>\n",
       "      <td>866</td>\n",
       "      <td>algeria</td>\n",
       "      <td>dinar</td>\n",
       "      <td>angola</td>\n",
       "      <td>kwanza</td>\n",
       "    </tr>\n",
       "    <tr>\n",
       "      <th>: gram2-opposite</th>\n",
       "      <td>812</td>\n",
       "      <td>acceptable</td>\n",
       "      <td>unacceptable</td>\n",
       "      <td>aware</td>\n",
       "      <td>unaware</td>\n",
       "    </tr>\n",
       "    <tr>\n",
       "      <th>: family</th>\n",
       "      <td>506</td>\n",
       "      <td>boy</td>\n",
       "      <td>girl</td>\n",
       "      <td>brother</td>\n",
       "      <td>sister</td>\n",
       "    </tr>\n",
       "    <tr>\n",
       "      <th>: capital-common-countries</th>\n",
       "      <td>506</td>\n",
       "      <td>athens</td>\n",
       "      <td>greece</td>\n",
       "      <td>baghdad</td>\n",
       "      <td>iraq</td>\n",
       "    </tr>\n",
       "  </tbody>\n",
       "</table>\n",
       "</div>"
      ],
      "text/plain": [
       "                                    n           a             b           c  \\\n",
       "category                                                                      \n",
       ": capital-world                  8556       abuja       nigeria       accra   \n",
       ": city-in-state                  4242     chicago      illinois     houston   \n",
       ": gram6-nationality-adjective    1640     albania      albanian   argentina   \n",
       ": gram7-past-tense               1560     dancing        danced  decreasing   \n",
       ": gram8-plural                   1332      banana       bananas        bird   \n",
       ": gram3-comparative              1332         bad         worse         big   \n",
       ": gram4-superlative              1122         bad         worst         big   \n",
       ": gram5-present-participle       1056        code        coding       dance   \n",
       ": gram1-adjective-to-adverb       992     amazing     amazingly    apparent   \n",
       ": gram9-plural-verbs              870    decrease     decreases    describe   \n",
       ": currency                        866     algeria         dinar      angola   \n",
       ": gram2-opposite                  812  acceptable  unacceptable       aware   \n",
       ": family                          506         boy          girl     brother   \n",
       ": capital-common-countries        506      athens        greece     baghdad   \n",
       "\n",
       "                                           d  \n",
       "category                                      \n",
       ": capital-world                        ghana  \n",
       ": city-in-state                        texas  \n",
       ": gram6-nationality-adjective    argentinean  \n",
       ": gram7-past-tense                 decreased  \n",
       ": gram8-plural                         birds  \n",
       ": gram3-comparative                   bigger  \n",
       ": gram4-superlative                  biggest  \n",
       ": gram5-present-participle           dancing  \n",
       ": gram1-adjective-to-adverb       apparently  \n",
       ": gram9-plural-verbs               describes  \n",
       ": currency                            kwanza  \n",
       ": gram2-opposite                     unaware  \n",
       ": family                              sister  \n",
       ": capital-common-countries              iraq  "
      ]
     },
     "execution_count": 12,
     "metadata": {},
     "output_type": "execute_result"
    }
   ],
   "source": [
    "analogy_cnt.join(analogy_example)"
   ]
  },
  {
   "cell_type": "markdown",
   "metadata": {
    "slideshow": {
     "slide_type": "slide"
    }
   },
   "source": [
    "## `word2vec` - skipgram Architecture using Keras"
   ]
  },
  {
   "cell_type": "markdown",
   "metadata": {
    "slideshow": {
     "slide_type": "slide"
    }
   },
   "source": [
    "### Settings"
   ]
  },
  {
   "cell_type": "code",
   "execution_count": 13,
   "metadata": {
    "ExecuteTime": {
     "end_time": "2018-12-10T06:53:11.962382Z",
     "start_time": "2018-12-10T06:53:11.957411Z"
    },
    "slideshow": {
     "slide_type": "fragment"
    }
   },
   "outputs": [],
   "source": [
    "NGRAMS = 3                                # Longest ngram in text\n",
    "FILE_NAME = 'ngrams_{}'.format(NGRAMS)    # Input to use\n",
    "MIN_FREQ = 5\n",
    "SAMPLING_FACTOR = 1e-4\n",
    "WINDOW_SIZE = 5\n",
    "EMBEDDING_SIZE = 200\n",
    "EPOCHS = 1\n",
    "BATCH_SIZE = 50\n",
    "\n",
    "# Set up validation\n",
    "VALID_SET = 10      # Random set of words to get nearest neighbors for\n",
    "VALID_WINDOW = 150  # Most frequent words to draw validation set from\n",
    "NN = 10             # Number of nearest neighbors for evaluation\n",
    "\n",
    "valid_examples = np.random.choice(VALID_WINDOW, size=VALID_SET, replace=False)"
   ]
  },
  {
   "cell_type": "code",
   "execution_count": 14,
   "metadata": {
    "ExecuteTime": {
     "end_time": "2018-12-10T06:53:13.843939Z",
     "start_time": "2018-12-10T06:53:13.841581Z"
    },
    "slideshow": {
     "slide_type": "fragment"
    }
   },
   "outputs": [],
   "source": [
    "path = Path('keras', SOURCE, LANGUAGE, FILE_NAME).resolve()\n",
    "tb_path = path / 'tensorboard'\n",
    "if not tb_path.exists():\n",
    "    tb_path.mkdir(parents=True, exist_ok=True)"
   ]
  },
  {
   "cell_type": "markdown",
   "metadata": {
    "slideshow": {
     "slide_type": "slide"
    }
   },
   "source": [
    "### Build Data Set"
   ]
  },
  {
   "cell_type": "markdown",
   "metadata": {
    "slideshow": {
     "slide_type": "fragment"
    }
   },
   "source": [
    "#### Tokens to ID\n",
    "\n",
    "1. Extract the top *n* most common words to learn embeddings\n",
    "2. Index these *n* words with unique integers\n",
    "3. Create an `{index: word}` dictionary\n",
    "4. Replace the *n* words with their index, and a dummy value `UNK` elsewhere"
   ]
  },
  {
   "cell_type": "code",
   "execution_count": 15,
   "metadata": {
    "ExecuteTime": {
     "end_time": "2018-12-10T06:54:02.709606Z",
     "start_time": "2018-12-10T06:54:02.705898Z"
    },
    "slideshow": {
     "slide_type": "slide"
    }
   },
   "outputs": [],
   "source": [
    "def build_data(language, ngrams=1):\n",
    "    file_path = PROJECT_DIR / 'vocab' / SOURCE / language / 'ngrams_{}.txt'.format(ngrams)\n",
    "    words = file_path.read_text().split()\n",
    "    \n",
    "    # Get (token, count) tuples for tokens meeting MIN_FREQ \n",
    "    token_counts = [t for t in Counter(words).most_common() if t[1] >= MIN_FREQ]\n",
    "    tokens, counts = list(zip(*token_counts))\n",
    "    \n",
    "    # create id-token dicts & reverse dicts\n",
    "    id_to_token = pd.Series(tokens, index=range(1, len(tokens) + 1)).to_dict()\n",
    "    id_to_token.update({0: 'UNK'})\n",
    "    token_to_id = {t:i for i, t in id_to_token.items()}\n",
    "    data = [token_to_id.get(word, 0) for word in words]\n",
    "    return data, token_to_id, id_to_token"
   ]
  },
  {
   "cell_type": "code",
   "execution_count": 16,
   "metadata": {
    "ExecuteTime": {
     "end_time": "2018-12-10T06:54:05.230482Z",
     "start_time": "2018-12-10T06:54:03.089009Z"
    },
    "slideshow": {
     "slide_type": "fragment"
    }
   },
   "outputs": [],
   "source": [
    "data, token_to_id, id_to_token = build_data(LANGUAGE, ngrams=NGRAMS)"
   ]
  },
  {
   "cell_type": "code",
   "execution_count": 17,
   "metadata": {
    "ExecuteTime": {
     "end_time": "2018-12-10T06:54:07.383676Z",
     "start_time": "2018-12-10T06:54:07.381927Z"
    },
    "slideshow": {
     "slide_type": "slide"
    }
   },
   "outputs": [],
   "source": [
    "vocab_size = len(token_to_id)"
   ]
  },
  {
   "cell_type": "code",
   "execution_count": 18,
   "metadata": {
    "ExecuteTime": {
     "end_time": "2018-12-10T06:54:07.562714Z",
     "start_time": "2018-12-10T06:54:07.558075Z"
    },
    "slideshow": {
     "slide_type": "fragment"
    }
   },
   "outputs": [
    {
     "data": {
      "text/plain": [
       "31300"
      ]
     },
     "execution_count": 18,
     "metadata": {},
     "output_type": "execute_result"
    }
   ],
   "source": [
    "vocab_size"
   ]
  },
  {
   "cell_type": "code",
   "execution_count": 19,
   "metadata": {
    "ExecuteTime": {
     "end_time": "2018-12-10T06:54:14.901599Z",
     "start_time": "2018-12-10T06:54:14.745194Z"
    },
    "slideshow": {
     "slide_type": "fragment"
    }
   },
   "outputs": [
    {
     "data": {
      "text/plain": [
       "(0, 31299)"
      ]
     },
     "execution_count": 19,
     "metadata": {},
     "output_type": "execute_result"
    }
   ],
   "source": [
    "min(data), max(data)"
   ]
  },
  {
   "cell_type": "code",
   "execution_count": 20,
   "metadata": {
    "ExecuteTime": {
     "end_time": "2018-12-10T06:54:18.499601Z",
     "start_time": "2018-12-10T06:54:17.631605Z"
    },
    "slideshow": {
     "slide_type": "fragment"
    }
   },
   "outputs": [],
   "source": [
    "s = pd.Series(data).value_counts().reset_index()\n",
    "s.columns = ['id', 'count']\n",
    "s['token'] = s.id.map(id_to_token)"
   ]
  },
  {
   "cell_type": "code",
   "execution_count": 21,
   "metadata": {
    "ExecuteTime": {
     "end_time": "2018-12-10T06:54:18.508607Z",
     "start_time": "2018-12-10T06:54:18.500964Z"
    },
    "slideshow": {
     "slide_type": "slide"
    }
   },
   "outputs": [
    {
     "data": {
      "text/html": [
       "<div>\n",
       "<style scoped>\n",
       "    .dataframe tbody tr th:only-of-type {\n",
       "        vertical-align: middle;\n",
       "    }\n",
       "\n",
       "    .dataframe tbody tr th {\n",
       "        vertical-align: top;\n",
       "    }\n",
       "\n",
       "    .dataframe thead th {\n",
       "        text-align: right;\n",
       "    }\n",
       "</style>\n",
       "<table border=\"1\" class=\"dataframe\">\n",
       "  <thead>\n",
       "    <tr style=\"text-align: right;\">\n",
       "      <th></th>\n",
       "      <th>id</th>\n",
       "      <th>count</th>\n",
       "      <th>token</th>\n",
       "    </tr>\n",
       "  </thead>\n",
       "  <tbody>\n",
       "    <tr>\n",
       "      <th>0</th>\n",
       "      <td>1</td>\n",
       "      <td>382644</td>\n",
       "      <td>the</td>\n",
       "    </tr>\n",
       "    <tr>\n",
       "      <th>1</th>\n",
       "      <td>2</td>\n",
       "      <td>272106</td>\n",
       "      <td>and</td>\n",
       "    </tr>\n",
       "    <tr>\n",
       "      <th>2</th>\n",
       "      <td>3</td>\n",
       "      <td>223482</td>\n",
       "      <td>to</td>\n",
       "    </tr>\n",
       "    <tr>\n",
       "      <th>3</th>\n",
       "      <td>4</td>\n",
       "      <td>210822</td>\n",
       "      <td>of</td>\n",
       "    </tr>\n",
       "    <tr>\n",
       "      <th>4</th>\n",
       "      <td>5</td>\n",
       "      <td>193161</td>\n",
       "      <td>a</td>\n",
       "    </tr>\n",
       "    <tr>\n",
       "      <th>5</th>\n",
       "      <td>6</td>\n",
       "      <td>169734</td>\n",
       "      <td>that</td>\n",
       "    </tr>\n",
       "    <tr>\n",
       "      <th>6</th>\n",
       "      <td>7</td>\n",
       "      <td>148863</td>\n",
       "      <td>i</td>\n",
       "    </tr>\n",
       "    <tr>\n",
       "      <th>7</th>\n",
       "      <td>8</td>\n",
       "      <td>142212</td>\n",
       "      <td>in</td>\n",
       "    </tr>\n",
       "    <tr>\n",
       "      <th>8</th>\n",
       "      <td>9</td>\n",
       "      <td>140793</td>\n",
       "      <td>it</td>\n",
       "    </tr>\n",
       "    <tr>\n",
       "      <th>9</th>\n",
       "      <td>10</td>\n",
       "      <td>132147</td>\n",
       "      <td>you</td>\n",
       "    </tr>\n",
       "  </tbody>\n",
       "</table>\n",
       "</div>"
      ],
      "text/plain": [
       "   id   count token\n",
       "0   1  382644   the\n",
       "1   2  272106   and\n",
       "2   3  223482    to\n",
       "3   4  210822    of\n",
       "4   5  193161     a\n",
       "5   6  169734  that\n",
       "6   7  148863     i\n",
       "7   8  142212    in\n",
       "8   9  140793    it\n",
       "9  10  132147   you"
      ]
     },
     "execution_count": 21,
     "metadata": {},
     "output_type": "execute_result"
    }
   ],
   "source": [
    "s.sort_values('count', ascending=False).head(10)"
   ]
  },
  {
   "cell_type": "code",
   "execution_count": 22,
   "metadata": {
    "ExecuteTime": {
     "end_time": "2018-12-10T06:54:18.551156Z",
     "start_time": "2018-12-10T06:54:18.509623Z"
    },
    "slideshow": {
     "slide_type": "fragment"
    }
   },
   "outputs": [],
   "source": [
    "s.sort_values('id').token.dropna().to_csv(tb_path / 'meta.tsv', index=False)"
   ]
  },
  {
   "cell_type": "markdown",
   "metadata": {
    "slideshow": {
     "slide_type": "slide"
    }
   },
   "source": [
    "#### Analogies to ID"
   ]
  },
  {
   "cell_type": "code",
   "execution_count": 23,
   "metadata": {
    "ExecuteTime": {
     "end_time": "2018-12-10T06:54:23.842956Z",
     "start_time": "2018-12-10T06:54:23.690010Z"
    },
    "slideshow": {
     "slide_type": "fragment"
    }
   },
   "outputs": [],
   "source": [
    "df = pd.read_csv(Path('data', 'analogies', 'analogies-{}.txt'.format(LANGUAGE)), \n",
    "                 header=None, squeeze=True)\n",
    "categories = df[df.str.startswith(':')]\n",
    "analogies = df[~df.str.startswith(':')].str.split(expand=True)\n",
    "analogies.columns = list('abcd')"
   ]
  },
  {
   "cell_type": "code",
   "execution_count": 24,
   "metadata": {
    "ExecuteTime": {
     "end_time": "2018-12-10T06:54:24.456585Z",
     "start_time": "2018-12-10T06:54:24.436606Z"
    },
    "slideshow": {
     "slide_type": "slide"
    }
   },
   "outputs": [
    {
     "data": {
      "text/html": [
       "<div>\n",
       "<style scoped>\n",
       "    .dataframe tbody tr th:only-of-type {\n",
       "        vertical-align: middle;\n",
       "    }\n",
       "\n",
       "    .dataframe tbody tr th {\n",
       "        vertical-align: top;\n",
       "    }\n",
       "\n",
       "    .dataframe thead th {\n",
       "        text-align: right;\n",
       "    }\n",
       "</style>\n",
       "<table border=\"1\" class=\"dataframe\">\n",
       "  <thead>\n",
       "    <tr style=\"text-align: right;\">\n",
       "      <th></th>\n",
       "      <th>a</th>\n",
       "      <th>b</th>\n",
       "      <th>c</th>\n",
       "      <th>d</th>\n",
       "    </tr>\n",
       "  </thead>\n",
       "  <tbody>\n",
       "    <tr>\n",
       "      <th>1</th>\n",
       "      <td>athens</td>\n",
       "      <td>greece</td>\n",
       "      <td>baghdad</td>\n",
       "      <td>iraq</td>\n",
       "    </tr>\n",
       "    <tr>\n",
       "      <th>2</th>\n",
       "      <td>athens</td>\n",
       "      <td>greece</td>\n",
       "      <td>bangkok</td>\n",
       "      <td>thailand</td>\n",
       "    </tr>\n",
       "    <tr>\n",
       "      <th>3</th>\n",
       "      <td>athens</td>\n",
       "      <td>greece</td>\n",
       "      <td>beijing</td>\n",
       "      <td>china</td>\n",
       "    </tr>\n",
       "    <tr>\n",
       "      <th>4</th>\n",
       "      <td>athens</td>\n",
       "      <td>greece</td>\n",
       "      <td>berlin</td>\n",
       "      <td>germany</td>\n",
       "    </tr>\n",
       "    <tr>\n",
       "      <th>5</th>\n",
       "      <td>athens</td>\n",
       "      <td>greece</td>\n",
       "      <td>bern</td>\n",
       "      <td>switzerland</td>\n",
       "    </tr>\n",
       "  </tbody>\n",
       "</table>\n",
       "</div>"
      ],
      "text/plain": [
       "        a       b        c            d\n",
       "1  athens  greece  baghdad         iraq\n",
       "2  athens  greece  bangkok     thailand\n",
       "3  athens  greece  beijing        china\n",
       "4  athens  greece   berlin      germany\n",
       "5  athens  greece     bern  switzerland"
      ]
     },
     "execution_count": 24,
     "metadata": {},
     "output_type": "execute_result"
    }
   ],
   "source": [
    "analogies.head()"
   ]
  },
  {
   "cell_type": "code",
   "execution_count": 25,
   "metadata": {
    "ExecuteTime": {
     "end_time": "2018-12-10T06:54:26.357446Z",
     "start_time": "2018-12-10T06:54:26.263768Z"
    },
    "slideshow": {
     "slide_type": "fragment"
    }
   },
   "outputs": [
    {
     "data": {
      "text/plain": [
       "0.4546313799621928"
      ]
     },
     "execution_count": 25,
     "metadata": {},
     "output_type": "execute_result"
    }
   ],
   "source": [
    "analogies_id = analogies.apply(lambda x: x.map(token_to_id))\n",
    "analogies_id.notnull().all(1).sum()/len(analogies_id)"
   ]
  },
  {
   "cell_type": "markdown",
   "metadata": {
    "slideshow": {
     "slide_type": "slide"
    }
   },
   "source": [
    "### Generate Sampling Probabilities\n",
    "\n",
    "There is an alternative, faster scheme than the traditional SoftMax loss function called [Noise Contrastive Estimation (NCE)](http://papers.nips.cc/paper/5021-distributed-representations-of-words-and-phrases-and-their-compositionality.pdf).\n",
    "\n",
    "Instead of getting the softmax probability for all possible context words, randomly sample 2-20 possible context words and evaluate the probability only for these."
   ]
  },
  {
   "cell_type": "markdown",
   "metadata": {
    "slideshow": {
     "slide_type": "slide"
    }
   },
   "source": [
    "**SAMPLING_FACTOR**: used for generating the `sampling_table` argument for `skipgrams`. \n",
    "\n",
    "`sampling_table[i]` is the probability of sampling the word i-th most common word in a dataset\n",
    "\n",
    "The sampling probabilities are generated according\n",
    "to the sampling distribution used in word2vec:\n",
    "\n",
    "$p(\\text{word}) = \\min(1, \\frac{\\sqrt{\\frac{\\text{word frequency}}{\\text{sampling factor}}}}{\\frac{\\text{word frequency}}{\\text{sampling factor}}}$"
   ]
  },
  {
   "cell_type": "code",
   "execution_count": 26,
   "metadata": {
    "ExecuteTime": {
     "end_time": "2018-12-10T06:57:06.462506Z",
     "start_time": "2018-12-10T06:57:05.855693Z"
    },
    "slideshow": {
     "slide_type": "slide"
    }
   },
   "outputs": [
    {
     "data": {
      "image/png": "[encoded data removed]",
      "text/plain": [
       "<Figure size 432x288 with 1 Axes>"
      ]
     },
     "metadata": {
      "needs_background": "light"
     },
     "output_type": "display_data"
    }
   ],
   "source": [
    "df = s['count'].to_frame('freq')\n",
    "factors = [1e-2, 1e-3, 1e-4, 1e-5]\n",
    "for f in factors:\n",
    "    sf = make_sampling_table(vocab_size, sampling_factor=f)\n",
    "    df[f] = df.freq.mul(sf)\n",
    "df[factors].plot(logy=True);"
   ]
  },
  {
   "cell_type": "code",
   "execution_count": 27,
   "metadata": {
    "ExecuteTime": {
     "end_time": "2018-12-10T06:58:07.030148Z",
     "start_time": "2018-12-10T06:58:07.026839Z"
    },
    "slideshow": {
     "slide_type": "slide"
    }
   },
   "outputs": [],
   "source": [
    "sampling_table = make_sampling_table(vocab_size, sampling_factor=SAMPLING_FACTOR)"
   ]
  },
  {
   "cell_type": "code",
   "execution_count": 28,
   "metadata": {
    "ExecuteTime": {
     "end_time": "2018-12-10T06:58:07.362609Z",
     "start_time": "2018-12-10T06:58:07.192858Z"
    },
    "slideshow": {
     "slide_type": "fragment"
    }
   },
   "outputs": [
    {
     "data": {
      "image/png": "[encoded data removed]",
      "text/plain": [
       "<Figure size 432x288 with 1 Axes>"
      ]
     },
     "metadata": {
      "needs_background": "light"
     },
     "output_type": "display_data"
    }
   ],
   "source": [
    "pd.Series(sampling_table).plot(title='Skip-Gram Sampling Probabilities')\n",
    "plt.tight_layout();"
   ]
  },
  {
   "cell_type": "markdown",
   "metadata": {
    "slideshow": {
     "slide_type": "slide"
    }
   },
   "source": [
    "### Generate target-context word pairs"
   ]
  },
  {
   "cell_type": "code",
   "execution_count": 29,
   "metadata": {
    "ExecuteTime": {
     "end_time": "2018-12-10T07:00:33.846407Z",
     "start_time": "2018-12-10T06:58:10.973923Z"
    },
    "slideshow": {
     "slide_type": "fragment"
    }
   },
   "outputs": [
    {
     "name": "stdout",
     "output_type": "stream",
     "text": [
      "54,537,504 pairs created\n"
     ]
    }
   ],
   "source": [
    "pairs, labels = skipgrams(sequence=data,\n",
    "                            vocabulary_size=vocab_size,\n",
    "                            window_size=WINDOW_SIZE,\n",
    "                            sampling_table=sampling_table,\n",
    "                            negative_samples=1.0,\n",
    "                            shuffle=True)\n",
    "\n",
    "print('{:,d} pairs created'.format(len(pairs)))"
   ]
  },
  {
   "cell_type": "code",
   "execution_count": 30,
   "metadata": {
    "ExecuteTime": {
     "end_time": "2018-12-10T07:00:33.851520Z",
     "start_time": "2018-12-10T07:00:33.848200Z"
    },
    "slideshow": {
     "slide_type": "fragment"
    }
   },
   "outputs": [
    {
     "data": {
      "text/plain": [
       "[[14191, 19109], [38, 23254], [3158, 21317], [11976, 9158], [3945, 12059]]"
      ]
     },
     "execution_count": 30,
     "metadata": {},
     "output_type": "execute_result"
    }
   ],
   "source": [
    "pairs[:5]"
   ]
  },
  {
   "cell_type": "code",
   "execution_count": 31,
   "metadata": {
    "ExecuteTime": {
     "end_time": "2018-12-10T07:01:53.633534Z",
     "start_time": "2018-12-10T07:00:33.852713Z"
    },
    "slideshow": {
     "slide_type": "slide"
    }
   },
   "outputs": [],
   "source": [
    "target_word, context_word = np.array(pairs, dtype=np.int32).T\n",
    "labels = np.array(labels, dtype=np.int8)\n",
    "del pairs"
   ]
  },
  {
   "cell_type": "code",
   "execution_count": 32,
   "metadata": {
    "ExecuteTime": {
     "end_time": "2018-12-10T07:01:53.650930Z",
     "start_time": "2018-12-10T07:01:53.635164Z"
    },
    "slideshow": {
     "slide_type": "fragment"
    }
   },
   "outputs": [
    {
     "data": {
      "text/plain": [
       "array([14191,    38,  3158, 11976,  3945], dtype=int32)"
      ]
     },
     "execution_count": 32,
     "metadata": {},
     "output_type": "execute_result"
    }
   ],
   "source": [
    "target_word[:5]"
   ]
  },
  {
   "cell_type": "code",
   "execution_count": 33,
   "metadata": {
    "ExecuteTime": {
     "end_time": "2018-12-10T07:01:53.661703Z",
     "start_time": "2018-12-10T07:01:53.652325Z"
    },
    "slideshow": {
     "slide_type": "fragment"
    }
   },
   "outputs": [
    {
     "data": {
      "text/html": [
       "<div>\n",
       "<style scoped>\n",
       "    .dataframe tbody tr th:only-of-type {\n",
       "        vertical-align: middle;\n",
       "    }\n",
       "\n",
       "    .dataframe tbody tr th {\n",
       "        vertical-align: top;\n",
       "    }\n",
       "\n",
       "    .dataframe thead th {\n",
       "        text-align: right;\n",
       "    }\n",
       "</style>\n",
       "<table border=\"1\" class=\"dataframe\">\n",
       "  <thead>\n",
       "    <tr style=\"text-align: right;\">\n",
       "      <th></th>\n",
       "      <th>context</th>\n",
       "      <th>label</th>\n",
       "      <th>target</th>\n",
       "    </tr>\n",
       "  </thead>\n",
       "  <tbody>\n",
       "    <tr>\n",
       "      <th>0</th>\n",
       "      <td>19109</td>\n",
       "      <td>0</td>\n",
       "      <td>14191</td>\n",
       "    </tr>\n",
       "    <tr>\n",
       "      <th>1</th>\n",
       "      <td>23254</td>\n",
       "      <td>0</td>\n",
       "      <td>38</td>\n",
       "    </tr>\n",
       "    <tr>\n",
       "      <th>2</th>\n",
       "      <td>21317</td>\n",
       "      <td>0</td>\n",
       "      <td>3158</td>\n",
       "    </tr>\n",
       "    <tr>\n",
       "      <th>3</th>\n",
       "      <td>9158</td>\n",
       "      <td>0</td>\n",
       "      <td>11976</td>\n",
       "    </tr>\n",
       "    <tr>\n",
       "      <th>4</th>\n",
       "      <td>12059</td>\n",
       "      <td>0</td>\n",
       "      <td>3945</td>\n",
       "    </tr>\n",
       "  </tbody>\n",
       "</table>\n",
       "</div>"
      ],
      "text/plain": [
       "   context  label  target\n",
       "0    19109      0   14191\n",
       "1    23254      0      38\n",
       "2    21317      0    3158\n",
       "3     9158      0   11976\n",
       "4    12059      0    3945"
      ]
     },
     "execution_count": 33,
     "metadata": {},
     "output_type": "execute_result"
    }
   ],
   "source": [
    "df = pd.DataFrame({'target': target_word[:5], 'context': context_word[:5], 'label': labels[:5]})\n",
    "df"
   ]
  },
  {
   "cell_type": "code",
   "execution_count": 34,
   "metadata": {
    "ExecuteTime": {
     "end_time": "2018-12-10T07:01:54.026465Z",
     "start_time": "2018-12-10T07:01:53.662752Z"
    },
    "slideshow": {
     "slide_type": "slide"
    }
   },
   "outputs": [
    {
     "data": {
      "text/plain": [
       "1    27268752\n",
       "0    27268752\n",
       "dtype: int64"
      ]
     },
     "execution_count": 34,
     "metadata": {},
     "output_type": "execute_result"
    }
   ],
   "source": [
    "pd.Series(labels).value_counts()"
   ]
  },
  {
   "cell_type": "code",
   "execution_count": 35,
   "metadata": {
    "ExecuteTime": {
     "end_time": "2018-12-10T07:05:58.136170Z",
     "start_time": "2018-12-10T07:05:58.102377Z"
    },
    "hide_input": false,
    "slideshow": {
     "slide_type": "fragment"
    }
   },
   "outputs": [],
   "source": [
    "with pd.HDFStore(path / 'data.h5') as store:\n",
    "    store.put('id_to_token', pd.Series(id_to_token))"
   ]
  },
  {
   "cell_type": "markdown",
   "metadata": {
    "slideshow": {
     "slide_type": "slide"
    }
   },
   "source": [
    "### Define Keras Model Components"
   ]
  },
  {
   "cell_type": "markdown",
   "metadata": {
    "slideshow": {
     "slide_type": "fragment"
    }
   },
   "source": [
    "#### Scalar Input Variables"
   ]
  },
  {
   "cell_type": "code",
   "execution_count": 36,
   "metadata": {
    "ExecuteTime": {
     "end_time": "2018-12-10T07:06:01.438878Z",
     "start_time": "2018-12-10T07:06:01.428723Z"
    },
    "slideshow": {
     "slide_type": "fragment"
    }
   },
   "outputs": [],
   "source": [
    "input_target = Input((1,), name='target_input')\n",
    "input_context = Input((1,), name='context_input')"
   ]
  },
  {
   "cell_type": "markdown",
   "metadata": {
    "slideshow": {
     "slide_type": "slide"
    }
   },
   "source": [
    "#### Shared Embedding Layer"
   ]
  },
  {
   "cell_type": "code",
   "execution_count": 37,
   "metadata": {
    "ExecuteTime": {
     "end_time": "2018-12-10T07:06:04.673449Z",
     "start_time": "2018-12-10T07:06:04.671203Z"
    },
    "slideshow": {
     "slide_type": "fragment"
    }
   },
   "outputs": [],
   "source": [
    "embedding = Embedding(input_dim=vocab_size,\n",
    "                      output_dim=EMBEDDING_SIZE,\n",
    "                      input_length=1,\n",
    "                      name='embedding_layer')"
   ]
  },
  {
   "cell_type": "code",
   "execution_count": 38,
   "metadata": {
    "ExecuteTime": {
     "end_time": "2018-12-10T07:06:05.431704Z",
     "start_time": "2018-12-10T07:06:05.387080Z"
    },
    "slideshow": {
     "slide_type": "fragment"
    }
   },
   "outputs": [],
   "source": [
    "target = embedding(input_target)\n",
    "target = Reshape((EMBEDDING_SIZE, 1), name='target_embedding')(target)\n",
    "\n",
    "context = embedding(input_context)\n",
    "context = Reshape((EMBEDDING_SIZE, 1), name='context_embedding')(context)"
   ]
  },
  {
   "cell_type": "markdown",
   "metadata": {
    "slideshow": {
     "slide_type": "slide"
    }
   },
   "source": [
    "#### Create Similarity Measure"
   ]
  },
  {
   "cell_type": "code",
   "execution_count": 39,
   "metadata": {
    "ExecuteTime": {
     "end_time": "2018-12-10T07:06:06.339306Z",
     "start_time": "2018-12-10T07:06:06.314257Z"
    },
    "slideshow": {
     "slide_type": "fragment"
    }
   },
   "outputs": [],
   "source": [
    "dot_product = Dot(axes=1)([target, context])\n",
    "dot_product = Reshape((1,), name='similarity')(dot_product)"
   ]
  },
  {
   "cell_type": "markdown",
   "metadata": {
    "slideshow": {
     "slide_type": "slide"
    }
   },
   "source": [
    "#### Sigmoid Output Layer"
   ]
  },
  {
   "cell_type": "code",
   "execution_count": 40,
   "metadata": {
    "ExecuteTime": {
     "end_time": "2018-12-10T07:06:08.599771Z",
     "start_time": "2018-12-10T07:06:08.584301Z"
    },
    "slideshow": {
     "slide_type": "fragment"
    }
   },
   "outputs": [],
   "source": [
    "output = Dense(units=1, activation='sigmoid', name='output')(dot_product)"
   ]
  },
  {
   "cell_type": "markdown",
   "metadata": {
    "slideshow": {
     "slide_type": "slide"
    }
   },
   "source": [
    "#### Compile Training Model"
   ]
  },
  {
   "cell_type": "code",
   "execution_count": 41,
   "metadata": {
    "ExecuteTime": {
     "end_time": "2018-12-10T07:06:09.195879Z",
     "start_time": "2018-12-10T07:06:09.117732Z"
    },
    "slideshow": {
     "slide_type": "fragment"
    }
   },
   "outputs": [],
   "source": [
    "model = Model(inputs=[input_target, input_context], outputs=output)\n",
    "model.compile(loss='binary_crossentropy', optimizer='rmsprop')"
   ]
  },
  {
   "cell_type": "markdown",
   "metadata": {},
   "source": [
    "#### Display Architecture"
   ]
  },
  {
   "cell_type": "code",
   "execution_count": 42,
   "metadata": {
    "ExecuteTime": {
     "end_time": "2018-12-10T07:06:11.692010Z",
     "start_time": "2018-12-10T07:06:11.689022Z"
    },
    "slideshow": {
     "slide_type": "slide"
    }
   },
   "outputs": [
    {
     "name": "stdout",
     "output_type": "stream",
     "text": [
      "__________________________________________________________________________________________________\n",
      "Layer (type)                    Output Shape         Param #     Connected to                     \n",
      "==================================================================================================\n",
      "target_input (InputLayer)       (None, 1)            0                                            \n",
      "__________________________________________________________________________________________________\n",
      "context_input (InputLayer)      (None, 1)            0                                            \n",
      "__________________________________________________________________________________________________\n",
      "embedding_layer (Embedding)     (None, 1, 200)       6260000     target_input[0][0]               \n",
      "                                                                 context_input[0][0]              \n",
      "__________________________________________________________________________________________________\n",
      "target_embedding (Reshape)      (None, 200, 1)       0           embedding_layer[0][0]            \n",
      "__________________________________________________________________________________________________\n",
      "context_embedding (Reshape)     (None, 200, 1)       0           embedding_layer[1][0]            \n",
      "__________________________________________________________________________________________________\n",
      "dot (Dot)                       (None, 1, 1)         0           target_embedding[0][0]           \n",
      "                                                                 context_embedding[0][0]          \n",
      "__________________________________________________________________________________________________\n",
      "similarity (Reshape)            (None, 1)            0           dot[0][0]                        \n",
      "__________________________________________________________________________________________________\n",
      "output (Dense)                  (None, 1)            2           similarity[0][0]                 \n",
      "==================================================================================================\n",
      "Total params: 6,260,002\n",
      "Trainable params: 6,260,002\n",
      "Non-trainable params: 0\n",
      "__________________________________________________________________________________________________\n"
     ]
    }
   ],
   "source": [
    "model.summary()"
   ]
  },
  {
   "cell_type": "markdown",
   "metadata": {
    "slideshow": {
     "slide_type": "slide"
    }
   },
   "source": [
    "#### Validation Model"
   ]
  },
  {
   "cell_type": "code",
   "execution_count": 46,
   "metadata": {
    "ExecuteTime": {
     "end_time": "2018-12-10T07:13:01.364246Z",
     "start_time": "2018-12-10T07:13:01.330374Z"
    },
    "slideshow": {
     "slide_type": "fragment"
    }
   },
   "outputs": [],
   "source": [
    "similarity = Dot(normalize=True, \n",
    "                 axes=1, \n",
    "                 name='cosine_similarity')([target, context])"
   ]
  },
  {
   "cell_type": "code",
   "execution_count": 47,
   "metadata": {
    "ExecuteTime": {
     "end_time": "2018-12-10T07:13:01.715914Z",
     "start_time": "2018-12-10T07:13:01.711419Z"
    },
    "slideshow": {
     "slide_type": "fragment"
    }
   },
   "outputs": [],
   "source": [
    "# create a secondary validation model to run our similarity checks during training\n",
    "validation_model = Model(inputs=[input_target, input_context], outputs=similarity)"
   ]
  },
  {
   "cell_type": "code",
   "execution_count": 48,
   "metadata": {
    "ExecuteTime": {
     "end_time": "2018-12-10T07:13:02.480815Z",
     "start_time": "2018-12-10T07:13:02.470139Z"
    },
    "slideshow": {
     "slide_type": "slide"
    }
   },
   "outputs": [
    {
     "name": "stdout",
     "output_type": "stream",
     "text": [
      "__________________________________________________________________________________________________\n",
      "Layer (type)                    Output Shape         Param #     Connected to                     \n",
      "==================================================================================================\n",
      "target_input (InputLayer)       (None, 1)            0                                            \n",
      "__________________________________________________________________________________________________\n",
      "context_input (InputLayer)      (None, 1)            0                                            \n",
      "__________________________________________________________________________________________________\n",
      "embedding_layer (Embedding)     (None, 1, 200)       6260000     target_input[0][0]               \n",
      "                                                                 context_input[0][0]              \n",
      "__________________________________________________________________________________________________\n",
      "target_embedding (Reshape)      (None, 200, 1)       0           embedding_layer[0][0]            \n",
      "__________________________________________________________________________________________________\n",
      "context_embedding (Reshape)     (None, 200, 1)       0           embedding_layer[1][0]            \n",
      "__________________________________________________________________________________________________\n",
      "cosine_similarity (Dot)         (None, 1, 1)         0           target_embedding[0][0]           \n",
      "                                                                 context_embedding[0][0]          \n",
      "==================================================================================================\n",
      "Total params: 6,260,000\n",
      "Trainable params: 6,260,000\n",
      "Non-trainable params: 0\n",
      "__________________________________________________________________________________________________\n"
     ]
    }
   ],
   "source": [
    "validation_model.summary()"
   ]
  },
  {
   "cell_type": "markdown",
   "metadata": {
    "slideshow": {
     "slide_type": "slide"
    }
   },
   "source": [
    "![Keras Graph](https://s3.amazonaws.com/applied-ai/images/keras_graph_tensorboard.png)"
   ]
  },
  {
   "cell_type": "markdown",
   "metadata": {
    "slideshow": {
     "slide_type": "slide"
    }
   },
   "source": [
    "### Create Keras Callbacks"
   ]
  },
  {
   "cell_type": "markdown",
   "metadata": {
    "slideshow": {
     "slide_type": "fragment"
    }
   },
   "source": [
    "####  Nearest Neighors & Analogies"
   ]
  },
  {
   "cell_type": "code",
   "execution_count": 49,
   "metadata": {
    "ExecuteTime": {
     "end_time": "2018-12-10T07:13:07.729779Z",
     "start_time": "2018-12-10T07:13:07.726679Z"
    },
    "slideshow": {
     "slide_type": "fragment"
    }
   },
   "outputs": [],
   "source": [
    "test_set = analogies_id.dropna().astype(int)\n",
    "a, b, c, actual = test_set.values.T\n",
    "actual = actual.reshape(-1, 1)\n",
    "n_analogies = len(actual)"
   ]
  },
  {
   "cell_type": "code",
   "execution_count": 50,
   "metadata": {
    "ExecuteTime": {
     "end_time": "2018-12-10T07:13:10.070985Z",
     "start_time": "2018-12-10T07:13:10.064607Z"
    },
    "slideshow": {
     "slide_type": "slide"
    }
   },
   "outputs": [],
   "source": [
    "class EvalCallback(Callback):\n",
    "        \n",
    "    def on_train_begin(self, logs={}):\n",
    "        self.eval_nn()\n",
    "        self.test_analogies()\n",
    "\n",
    "    def on_train_end(self, logs={}):\n",
    "        self.eval_nn()\n",
    "\n",
    "    def on_epoch_end(self, batch, logs={}):\n",
    "        self.test_analogies()\n",
    "\n",
    "    @staticmethod\n",
    "    def test_analogies():\n",
    "        print('\\nAnalogy Accuracy:\\n\\t', end='')\n",
    "        embeddings = embedding.get_weights()[0]\n",
    "        target = embeddings[c] + embeddings[b] - embeddings[a]\n",
    "        neighbors = np.argsort(cdist(target, embeddings, metric='cosine'))\n",
    "        match_id = np.argwhere(neighbors == actual)[:, 1]\n",
    "        print('\\n\\t'.join(['Top {}: {:.2%}'.format(i, (match_id < i).sum() / n_analogies) for i in [1, 5, 10]]))\n",
    "\n",
    "    def eval_nn(self):\n",
    "        print('\\n{} Nearest Neighbors:'.format(NN))\n",
    "        for i in range(VALID_SET):\n",
    "            valid_id = valid_examples[i]\n",
    "            valid_word = id_to_token[valid_id]\n",
    "            similarity = self._get_similiarity(valid_id).reshape(-1)\n",
    "            nearest = (-similarity).argsort()[1:NN + 1]\n",
    "            neighbors = [id_to_token[nearest[n]] for n in range(NN)]\n",
    "            print('{}:\\t{}'.format(valid_word, ', '.join(neighbors)))            \n",
    "        \n",
    "    @staticmethod\n",
    "    def _get_similiarity(valid_word_idx):\n",
    "        target = np.full(shape=vocab_size, fill_value=valid_word_idx)\n",
    "        context = np.arange(vocab_size)\n",
    "        return validation_model.predict([target, context])\n",
    "\n",
    "\n",
    "evaluation = EvalCallback()"
   ]
  },
  {
   "cell_type": "markdown",
   "metadata": {
    "slideshow": {
     "slide_type": "slide"
    }
   },
   "source": [
    "#### Tensorboard Callback"
   ]
  },
  {
   "cell_type": "code",
   "execution_count": 51,
   "metadata": {
    "ExecuteTime": {
     "end_time": "2018-12-10T07:13:13.272624Z",
     "start_time": "2018-12-10T07:13:13.270670Z"
    },
    "slideshow": {
     "slide_type": "fragment"
    }
   },
   "outputs": [],
   "source": [
    "tensorboard = TensorBoard(log_dir=str(tb_path),\n",
    "                          write_graph=True,\n",
    "                          embeddings_freq=1,\n",
    "                          embeddings_metadata=str(tb_path / 'meta.tsv'))"
   ]
  },
  {
   "cell_type": "markdown",
   "metadata": {
    "slideshow": {
     "slide_type": "slide"
    }
   },
   "source": [
    "### Train Model"
   ]
  },
  {
   "cell_type": "code",
   "execution_count": 52,
   "metadata": {
    "ExecuteTime": {
     "end_time": "2018-12-10T07:29:39.905357Z",
     "start_time": "2018-12-10T07:13:13.616616Z"
    },
    "scrolled": false,
    "slideshow": {
     "slide_type": "fragment"
    }
   },
   "outputs": [
    {
     "name": "stderr",
     "output_type": "stream",
     "text": [
      "/home/stefan/.pyenv/versions/at-3.6/lib/python3.6/site-packages/tensorflow/python/ops/gradients_impl.py:112: UserWarning: Converting sparse IndexedSlices to a dense Tensor of unknown shape. This may consume a large amount of memory.\n",
      "  \"Converting sparse IndexedSlices to a dense Tensor of unknown shape. \"\n",
      "/home/stefan/.pyenv/versions/at-3.6/lib/python3.6/site-packages/tensorflow/python/ops/gradients_impl.py:112: UserWarning: Converting sparse IndexedSlices to a dense Tensor of unknown shape. This may consume a large amount of memory.\n",
      "  \"Converting sparse IndexedSlices to a dense Tensor of unknown shape. \"\n"
     ]
    },
    {
     "name": "stdout",
     "output_type": "stream",
     "text": [
      "\n",
      "10 Nearest Neighbors:\n",
      "'ve:\tjd, tackling, dignity, ungulate, icing, instructions, kogi, rising, maneuverable, mapping\n",
      "for:\tlakes, freestyle, spectacularly, underpasses, anton, yorktown, rasselas, mallory, discovery, attire\n",
      "kind:\tspouses, systematically, documented, skins, hijab, astronaut, amen_amen, fragrance, understandably, 1990s\n",
      "time:\tshowing, ivan, micronesia, loaf, salim, gang, carrel, liquid, discrete, charts\n",
      "'m:\trasa, windshield_wiper, bin_ladenism, managing, crickets, destitute, shifted, redistributed, epiphanies, solicited\n",
      "at:\tnutshell, spoof, helped, dwarves, viagra, spill, closer, pooping, reforestation, beverly\n",
      "had:\tbackseat, t1, cleared, epileptic, iib, cocktails, 1816, 3.50, leaps, iran_loves_israel\n",
      "put:\tsymbolized, bashed, declassified, convulse, strogatz, tedmed, arendt, moog, baumgardner, aidg\n",
      "your:\tforehead, glibness, monochromatic, tunnel, priest, flippers, iced, belongs, marc, reputation\n",
      "things:\tupdate, curling, fullest, strangler, reagents, unum, doodle, mounting, mailed, vanity\n",
      "\n",
      "Analogy Accuracy:\n",
      "\tTop 1: 0.00%\n",
      "\tTop 5: 0.01%\n",
      "\tTop 10: 0.02%\n",
      "Epoch 1/1\n",
      " 1481400/54537504 [..............................] - ETA: 9:10:43 - loss: 0.6826"
     ]
    },
    {
     "ename": "KeyboardInterrupt",
     "evalue": "",
     "output_type": "error",
     "traceback": [
      "\u001b[0;31m---------------------------------------------------------------------------\u001b[0m",
      "\u001b[0;31mKeyboardInterrupt\u001b[0m                         Traceback (most recent call last)",
      "\u001b[0;32m<ipython-input-52-e441746c6cd1>\u001b[0m in \u001b[0;36m<module>\u001b[0;34m()\u001b[0m\n\u001b[1;32m      4\u001b[0m                  \u001b[0mbatch_size\u001b[0m\u001b[0;34m=\u001b[0m\u001b[0mBATCH_SIZE\u001b[0m\u001b[0;34m,\u001b[0m\u001b[0;34m\u001b[0m\u001b[0m\n\u001b[1;32m      5\u001b[0m                  \u001b[0mepochs\u001b[0m\u001b[0;34m=\u001b[0m\u001b[0mEPOCHS\u001b[0m\u001b[0;34m,\u001b[0m\u001b[0;34m\u001b[0m\u001b[0m\n\u001b[0;32m----> 6\u001b[0;31m                  callbacks=[evaluation, tensorboard])\n\u001b[0m\u001b[1;32m      7\u001b[0m \u001b[0;34m\u001b[0m\u001b[0m\n\u001b[1;32m      8\u001b[0m \u001b[0mmodel\u001b[0m\u001b[0;34m.\u001b[0m\u001b[0msave\u001b[0m\u001b[0;34m(\u001b[0m\u001b[0mstr\u001b[0m\u001b[0;34m(\u001b[0m\u001b[0mpath\u001b[0m \u001b[0;34m/\u001b[0m \u001b[0;34m'skipgram_model.h5'\u001b[0m\u001b[0;34m)\u001b[0m\u001b[0;34m)\u001b[0m\u001b[0;34m\u001b[0m\u001b[0m\n",
      "\u001b[0;32m~/.pyenv/versions/at-3.6/lib/python3.6/site-packages/tensorflow/python/keras/engine/training.py\u001b[0m in \u001b[0;36mfit\u001b[0;34m(self, x, y, batch_size, epochs, verbose, callbacks, validation_split, validation_data, shuffle, class_weight, sample_weight, initial_epoch, steps_per_epoch, validation_steps, max_queue_size, workers, use_multiprocessing, **kwargs)\u001b[0m\n\u001b[1;32m   1637\u001b[0m           \u001b[0minitial_epoch\u001b[0m\u001b[0;34m=\u001b[0m\u001b[0minitial_epoch\u001b[0m\u001b[0;34m,\u001b[0m\u001b[0;34m\u001b[0m\u001b[0m\n\u001b[1;32m   1638\u001b[0m           \u001b[0msteps_per_epoch\u001b[0m\u001b[0;34m=\u001b[0m\u001b[0msteps_per_epoch\u001b[0m\u001b[0;34m,\u001b[0m\u001b[0;34m\u001b[0m\u001b[0m\n\u001b[0;32m-> 1639\u001b[0;31m           validation_steps=validation_steps)\n\u001b[0m\u001b[1;32m   1640\u001b[0m \u001b[0;34m\u001b[0m\u001b[0m\n\u001b[1;32m   1641\u001b[0m   def evaluate(self,\n",
      "\u001b[0;32m~/.pyenv/versions/at-3.6/lib/python3.6/site-packages/tensorflow/python/keras/engine/training_arrays.py\u001b[0m in \u001b[0;36mfit_loop\u001b[0;34m(model, inputs, targets, sample_weights, batch_size, epochs, verbose, callbacks, val_inputs, val_targets, val_sample_weights, shuffle, initial_epoch, steps_per_epoch, validation_steps)\u001b[0m\n\u001b[1;32m    213\u001b[0m           \u001b[0mins_batch\u001b[0m\u001b[0;34m[\u001b[0m\u001b[0mi\u001b[0m\u001b[0;34m]\u001b[0m \u001b[0;34m=\u001b[0m \u001b[0mins_batch\u001b[0m\u001b[0;34m[\u001b[0m\u001b[0mi\u001b[0m\u001b[0;34m]\u001b[0m\u001b[0;34m.\u001b[0m\u001b[0mtoarray\u001b[0m\u001b[0;34m(\u001b[0m\u001b[0;34m)\u001b[0m\u001b[0;34m\u001b[0m\u001b[0m\n\u001b[1;32m    214\u001b[0m \u001b[0;34m\u001b[0m\u001b[0m\n\u001b[0;32m--> 215\u001b[0;31m         \u001b[0mouts\u001b[0m \u001b[0;34m=\u001b[0m \u001b[0mf\u001b[0m\u001b[0;34m(\u001b[0m\u001b[0mins_batch\u001b[0m\u001b[0;34m)\u001b[0m\u001b[0;34m\u001b[0m\u001b[0m\n\u001b[0m\u001b[1;32m    216\u001b[0m         \u001b[0;32mif\u001b[0m \u001b[0;32mnot\u001b[0m \u001b[0misinstance\u001b[0m\u001b[0;34m(\u001b[0m\u001b[0mouts\u001b[0m\u001b[0;34m,\u001b[0m \u001b[0mlist\u001b[0m\u001b[0;34m)\u001b[0m\u001b[0;34m:\u001b[0m\u001b[0;34m\u001b[0m\u001b[0m\n\u001b[1;32m    217\u001b[0m           \u001b[0mouts\u001b[0m \u001b[0;34m=\u001b[0m \u001b[0;34m[\u001b[0m\u001b[0mouts\u001b[0m\u001b[0;34m]\u001b[0m\u001b[0;34m\u001b[0m\u001b[0m\n",
      "\u001b[0;32m~/.pyenv/versions/at-3.6/lib/python3.6/site-packages/tensorflow/python/keras/backend.py\u001b[0m in \u001b[0;36m__call__\u001b[0;34m(self, inputs)\u001b[0m\n\u001b[1;32m   2984\u001b[0m \u001b[0;34m\u001b[0m\u001b[0m\n\u001b[1;32m   2985\u001b[0m     fetched = self._callable_fn(*array_vals,\n\u001b[0;32m-> 2986\u001b[0;31m                                 run_metadata=self.run_metadata)\n\u001b[0m\u001b[1;32m   2987\u001b[0m     \u001b[0mself\u001b[0m\u001b[0;34m.\u001b[0m\u001b[0m_call_fetch_callbacks\u001b[0m\u001b[0;34m(\u001b[0m\u001b[0mfetched\u001b[0m\u001b[0;34m[\u001b[0m\u001b[0;34m-\u001b[0m\u001b[0mlen\u001b[0m\u001b[0;34m(\u001b[0m\u001b[0mself\u001b[0m\u001b[0;34m.\u001b[0m\u001b[0m_fetches\u001b[0m\u001b[0;34m)\u001b[0m\u001b[0;34m:\u001b[0m\u001b[0;34m]\u001b[0m\u001b[0;34m)\u001b[0m\u001b[0;34m\u001b[0m\u001b[0m\n\u001b[1;32m   2988\u001b[0m     \u001b[0;32mreturn\u001b[0m \u001b[0mfetched\u001b[0m\u001b[0;34m[\u001b[0m\u001b[0;34m:\u001b[0m\u001b[0mlen\u001b[0m\u001b[0;34m(\u001b[0m\u001b[0mself\u001b[0m\u001b[0;34m.\u001b[0m\u001b[0moutputs\u001b[0m\u001b[0;34m)\u001b[0m\u001b[0;34m]\u001b[0m\u001b[0;34m\u001b[0m\u001b[0m\n",
      "\u001b[0;32m~/.pyenv/versions/at-3.6/lib/python3.6/site-packages/tensorflow/python/client/session.py\u001b[0m in \u001b[0;36m__call__\u001b[0;34m(self, *args, **kwargs)\u001b[0m\n\u001b[1;32m   1437\u001b[0m           ret = tf_session.TF_SessionRunCallable(\n\u001b[1;32m   1438\u001b[0m               \u001b[0mself\u001b[0m\u001b[0;34m.\u001b[0m\u001b[0m_session\u001b[0m\u001b[0;34m.\u001b[0m\u001b[0m_session\u001b[0m\u001b[0;34m,\u001b[0m \u001b[0mself\u001b[0m\u001b[0;34m.\u001b[0m\u001b[0m_handle\u001b[0m\u001b[0;34m,\u001b[0m \u001b[0margs\u001b[0m\u001b[0;34m,\u001b[0m \u001b[0mstatus\u001b[0m\u001b[0;34m,\u001b[0m\u001b[0;34m\u001b[0m\u001b[0m\n\u001b[0;32m-> 1439\u001b[0;31m               run_metadata_ptr)\n\u001b[0m\u001b[1;32m   1440\u001b[0m         \u001b[0;32mif\u001b[0m \u001b[0mrun_metadata\u001b[0m\u001b[0;34m:\u001b[0m\u001b[0;34m\u001b[0m\u001b[0m\n\u001b[1;32m   1441\u001b[0m           \u001b[0mproto_data\u001b[0m \u001b[0;34m=\u001b[0m \u001b[0mtf_session\u001b[0m\u001b[0;34m.\u001b[0m\u001b[0mTF_GetBuffer\u001b[0m\u001b[0;34m(\u001b[0m\u001b[0mrun_metadata_ptr\u001b[0m\u001b[0;34m)\u001b[0m\u001b[0;34m\u001b[0m\u001b[0m\n",
      "\u001b[0;31mKeyboardInterrupt\u001b[0m: "
     ]
    }
   ],
   "source": [
    "loss = model.fit(x=[target_word, context_word],\n",
    "                 y=labels,\n",
    "                 shuffle=True,\n",
    "                 batch_size=BATCH_SIZE,\n",
    "                 epochs=EPOCHS,\n",
    "                 callbacks=[evaluation, tensorboard])\n",
    "\n",
    "model.save(str(path / 'skipgram_model.h5'))"
   ]
  },
  {
   "cell_type": "markdown",
   "metadata": {
    "slideshow": {
     "slide_type": "slide"
    }
   },
   "source": [
    "## Optimized TensorFlow Model\n",
    "\n",
    "Compile custom ops using `compile-ops.sh`.\n",
    "\n",
    "Run from command line."
   ]
  },
  {
   "cell_type": "code",
   "execution_count": 46,
   "metadata": {},
   "outputs": [
    {
     "name": "stdout",
     "output_type": "stream",
     "text": [
      "\u001b[31mcompile-ops.sh\u001b[m\u001b[m      \u001b[31mword2vec.py\u001b[m\u001b[m         word2vec_ops.so.zip\r\n",
      "\u001b[31mrun_tf.sh\u001b[m\u001b[m           \u001b[31mword2vec_ops.so\u001b[m\u001b[m\r\n"
     ]
    }
   ],
   "source": [
    "!ls tensorflow/"
   ]
  },
  {
   "cell_type": "code",
   "execution_count": 49,
   "metadata": {
    "slideshow": {
     "slide_type": "fragment"
    }
   },
   "outputs": [],
   "source": [
    "# %%bash\n",
    "# python tensorflow/word2vec.py --language=en --source=Ted --file=ngrams_1 --embedding_size=300 --num_neg_samples=20 --starter_lr=.1 --target_lr=.05 --batch_size=10 --min_count=10 --window_size=10"
   ]
  },
  {
   "cell_type": "markdown",
   "metadata": {
    "slideshow": {
     "slide_type": "slide"
    }
   },
   "source": [
    "## word2vec using Gensim"
   ]
  },
  {
   "cell_type": "markdown",
   "metadata": {
    "slideshow": {
     "slide_type": "fragment"
    }
   },
   "source": [
    "### Evaluation"
   ]
  },
  {
   "cell_type": "code",
   "execution_count": 56,
   "metadata": {
    "ExecuteTime": {
     "end_time": "2018-12-07T00:33:47.261154Z",
     "start_time": "2018-12-07T00:33:47.256178Z"
    },
    "slideshow": {
     "slide_type": "fragment"
    }
   },
   "outputs": [],
   "source": [
    "def accuracy_by_category(acc, detail=True):\n",
    "    results = [[c['section'], len(c['correct']), len(c['incorrect'])] for c in acc]\n",
    "    results = pd.DataFrame(results, columns=['category', 'correct', 'incorrect'])\n",
    "    results['average'] = results.correct.div(results[['correct', 'incorrect']].sum(1))\n",
    "    if detail:\n",
    "        print(results.sort_values('average', ascending=False))\n",
    "    return results.loc[results.category=='total', ['correct', 'incorrect', 'average']].squeeze().tolist()"
   ]
  },
  {
   "cell_type": "markdown",
   "metadata": {
    "slideshow": {
     "slide_type": "slide"
    }
   },
   "source": [
    "### Settings"
   ]
  },
  {
   "cell_type": "code",
   "execution_count": 57,
   "metadata": {
    "ExecuteTime": {
     "end_time": "2018-12-07T00:33:48.336482Z",
     "start_time": "2018-12-07T00:33:48.331924Z"
    },
    "slideshow": {
     "slide_type": "fragment"
    }
   },
   "outputs": [],
   "source": [
    "ANALOGIES_PATH = PROJECT_DIR / 'data' / 'analogies' / 'analogies-{}.txt'.format(LANGUAGE)\n",
    "gensim_path = PROJECT_DIR / 'gensim' / SOURCE / LANGUAGE / FILE_NAME\n",
    "if not gensim_path.exists():\n",
    "    gensim_path.mkdir(parents=True, exist_ok=True)"
   ]
  },
  {
   "cell_type": "markdown",
   "metadata": {
    "slideshow": {
     "slide_type": "slide"
    }
   },
   "source": [
    "### Sentence Generator"
   ]
  },
  {
   "cell_type": "code",
   "execution_count": 53,
   "metadata": {
    "ExecuteTime": {
     "end_time": "2018-12-10T07:30:26.875274Z",
     "start_time": "2018-12-10T07:30:26.871082Z"
    },
    "slideshow": {
     "slide_type": "fragment"
    }
   },
   "outputs": [],
   "source": [
    "sentence_path = PROJECT_DIR / 'vocab' / SOURCE / LANGUAGE / '{}.txt'.format(FILE_NAME)\n",
    "sentences = LineSentence(str(sentence_path))"
   ]
  },
  {
   "cell_type": "markdown",
   "metadata": {
    "slideshow": {
     "slide_type": "slide"
    }
   },
   "source": [
    "### Model"
   ]
  },
  {
   "cell_type": "code",
   "execution_count": 56,
   "metadata": {
    "ExecuteTime": {
     "end_time": "2018-12-10T07:36:42.963953Z",
     "start_time": "2018-12-10T07:30:46.174109Z"
    },
    "slideshow": {
     "slide_type": "fragment"
    }
   },
   "outputs": [
    {
     "ename": "NameError",
     "evalue": "name 'gensim_path' is not defined",
     "output_type": "error",
     "traceback": [
      "\u001b[0;31m---------------------------------------------------------------------------\u001b[0m",
      "\u001b[0;31mNameError\u001b[0m                                 Traceback (most recent call last)",
      "\u001b[0;32m<ipython-input-56-3c5531476e9f>\u001b[0m in \u001b[0;36m<module>\u001b[0;34m()\u001b[0m\n\u001b[1;32m     11\u001b[0m                  alpha=0.05)\n\u001b[1;32m     12\u001b[0m \u001b[0;34m\u001b[0m\u001b[0m\n\u001b[0;32m---> 13\u001b[0;31m \u001b[0mmodel\u001b[0m\u001b[0;34m.\u001b[0m\u001b[0mwv\u001b[0m\u001b[0;34m.\u001b[0m\u001b[0msave\u001b[0m\u001b[0;34m(\u001b[0m\u001b[0mstr\u001b[0m\u001b[0;34m(\u001b[0m\u001b[0mgensim_path\u001b[0m \u001b[0;34m/\u001b[0m \u001b[0;34m'word_vectors.bin'\u001b[0m\u001b[0;34m)\u001b[0m\u001b[0;34m)\u001b[0m\u001b[0;34m\u001b[0m\u001b[0m\n\u001b[0m\u001b[1;32m     14\u001b[0m \u001b[0mprint\u001b[0m\u001b[0;34m(\u001b[0m\u001b[0;34m'Duration: {:,.1f}s'\u001b[0m\u001b[0;34m.\u001b[0m\u001b[0mformat\u001b[0m\u001b[0;34m(\u001b[0m\u001b[0mtime\u001b[0m\u001b[0;34m(\u001b[0m\u001b[0;34m)\u001b[0m \u001b[0;34m-\u001b[0m \u001b[0mstart\u001b[0m\u001b[0;34m)\u001b[0m\u001b[0;34m)\u001b[0m\u001b[0;34m\u001b[0m\u001b[0m\n\u001b[1;32m     15\u001b[0m \u001b[0;34m\u001b[0m\u001b[0m\n",
      "\u001b[0;31mNameError\u001b[0m: name 'gensim_path' is not defined"
     ]
    }
   ],
   "source": [
    "start = time()\n",
    "\n",
    "model = Word2Vec(sentences,\n",
    "                 sg=1,\n",
    "                 size=300,\n",
    "                 window=5,\n",
    "                 min_count=10,\n",
    "                 negative=10,\n",
    "                 workers=8,\n",
    "                 iter=20,\n",
    "                 alpha=0.05)\n",
    "\n",
    "model.wv.save(str(gensim_path / 'word_vectors.bin'))\n",
    "print('Duration: {:,.1f}s'.format(time() - start))\n",
    "\n",
    "# gensim computes accuracy based on source text files\n",
    "detailed_accuracy = model.wv.accuracy(str(ANALOGIES_PATH), case_insensitive=True)\n",
    "\n",
    "# get accuracy per category\n",
    "summary = accuracy_by_category(detailed_accuracy)\n",
    "print('Base Accuracy: Correct {:,.0f} | Wrong {:,.0f} | Avg {:,.2%}\\n'.format(*summary))"
   ]
  },
  {
   "cell_type": "code",
   "execution_count": 60,
   "metadata": {
    "ExecuteTime": {
     "end_time": "2018-12-07T00:39:36.863411Z",
     "start_time": "2018-12-07T00:39:36.825185Z"
    },
    "slideshow": {
     "slide_type": "slide"
    }
   },
   "outputs": [
    {
     "name": "stderr",
     "output_type": "stream",
     "text": [
      "/home/stefan/.pyenv/versions/at-3.6/lib/python3.6/site-packages/gensim/matutils.py:737: FutureWarning: Conversion of the second argument of issubdtype from `int` to `np.signedinteger` is deprecated. In future, it will be treated as `np.int64 == np.dtype(int).type`.\n",
      "  if np.issubdtype(vec.dtype, np.int):\n"
     ]
    },
    {
     "data": {
      "text/html": [
       "<div>\n",
       "<style scoped>\n",
       "    .dataframe tbody tr th:only-of-type {\n",
       "        vertical-align: middle;\n",
       "    }\n",
       "\n",
       "    .dataframe tbody tr th {\n",
       "        vertical-align: top;\n",
       "    }\n",
       "\n",
       "    .dataframe thead th {\n",
       "        text-align: right;\n",
       "    }\n",
       "</style>\n",
       "<table border=\"1\" class=\"dataframe\">\n",
       "  <thead>\n",
       "    <tr style=\"text-align: right;\">\n",
       "      <th></th>\n",
       "      <th>token</th>\n",
       "      <th>similarity</th>\n",
       "    </tr>\n",
       "  </thead>\n",
       "  <tbody>\n",
       "    <tr>\n",
       "      <th>0</th>\n",
       "      <td>she</td>\n",
       "      <td>0.30</td>\n",
       "    </tr>\n",
       "    <tr>\n",
       "      <th>1</th>\n",
       "      <td>england</td>\n",
       "      <td>0.28</td>\n",
       "    </tr>\n",
       "    <tr>\n",
       "      <th>2</th>\n",
       "      <td>ace</td>\n",
       "      <td>0.27</td>\n",
       "    </tr>\n",
       "    <tr>\n",
       "      <th>3</th>\n",
       "      <td>heels</td>\n",
       "      <td>0.27</td>\n",
       "    </tr>\n",
       "    <tr>\n",
       "      <th>4</th>\n",
       "      <td>grandest</td>\n",
       "      <td>0.27</td>\n",
       "    </tr>\n",
       "    <tr>\n",
       "      <th>5</th>\n",
       "      <td>oedipus</td>\n",
       "      <td>0.26</td>\n",
       "    </tr>\n",
       "    <tr>\n",
       "      <th>6</th>\n",
       "      <td>accused</td>\n",
       "      <td>0.25</td>\n",
       "    </tr>\n",
       "    <tr>\n",
       "      <th>7</th>\n",
       "      <td>her</td>\n",
       "      <td>0.25</td>\n",
       "    </tr>\n",
       "    <tr>\n",
       "      <th>8</th>\n",
       "      <td>rented</td>\n",
       "      <td>0.25</td>\n",
       "    </tr>\n",
       "    <tr>\n",
       "      <th>9</th>\n",
       "      <td>thousand</td>\n",
       "      <td>0.25</td>\n",
       "    </tr>\n",
       "  </tbody>\n",
       "</table>\n",
       "</div>"
      ],
      "text/plain": [
       "      token  similarity\n",
       "0       she        0.30\n",
       "1   england        0.28\n",
       "2       ace        0.27\n",
       "3     heels        0.27\n",
       "4  grandest        0.27\n",
       "5   oedipus        0.26\n",
       "6   accused        0.25\n",
       "7       her        0.25\n",
       "8    rented        0.25\n",
       "9  thousand        0.25"
      ]
     },
     "execution_count": 60,
     "metadata": {},
     "output_type": "execute_result"
    }
   ],
   "source": [
    "most_sim = model.wv.most_similar(positive=['woman', 'king'], negative=['man'], topn=10)\n",
    "pd.DataFrame(most_sim, columns=['token', 'similarity'])"
   ]
  },
  {
   "cell_type": "code",
   "execution_count": 61,
   "metadata": {
    "ExecuteTime": {
     "end_time": "2018-12-07T00:39:36.909259Z",
     "start_time": "2018-12-07T00:39:36.867047Z"
    },
    "scrolled": false,
    "slideshow": {
     "slide_type": "slide"
    }
   },
   "outputs": [
    {
     "name": "stderr",
     "output_type": "stream",
     "text": [
      "/home/stefan/.pyenv/versions/at-3.6/lib/python3.6/site-packages/gensim/matutils.py:737: FutureWarning: Conversion of the second argument of issubdtype from `int` to `np.signedinteger` is deprecated. In future, it will be treated as `np.int64 == np.dtype(int).type`.\n",
      "  if np.issubdtype(vec.dtype, np.int):\n"
     ]
    },
    {
     "data": {
      "text/html": [
       "<div>\n",
       "<style scoped>\n",
       "    .dataframe tbody tr th:only-of-type {\n",
       "        vertical-align: middle;\n",
       "    }\n",
       "\n",
       "    .dataframe tbody tr th {\n",
       "        vertical-align: top;\n",
       "    }\n",
       "\n",
       "    .dataframe thead th {\n",
       "        text-align: right;\n",
       "    }\n",
       "</style>\n",
       "<table border=\"1\" class=\"dataframe\">\n",
       "  <thead>\n",
       "    <tr style=\"text-align: right;\">\n",
       "      <th></th>\n",
       "      <th>0</th>\n",
       "      <th>1</th>\n",
       "      <th>2</th>\n",
       "      <th>3</th>\n",
       "      <th>4</th>\n",
       "      <th>5</th>\n",
       "      <th>6</th>\n",
       "      <th>7</th>\n",
       "      <th>8</th>\n",
       "      <th>9</th>\n",
       "    </tr>\n",
       "  </thead>\n",
       "  <tbody>\n",
       "    <tr>\n",
       "      <th>'ve</th>\n",
       "      <td>have</td>\n",
       "      <td>'d</td>\n",
       "      <td>’ve</td>\n",
       "      <td>been</td>\n",
       "      <td>had</td>\n",
       "      <td>got</td>\n",
       "      <td>has</td>\n",
       "      <td>'re</td>\n",
       "      <td>seen</td>\n",
       "      <td>scholarships</td>\n",
       "    </tr>\n",
       "    <tr>\n",
       "      <th>for</th>\n",
       "      <td>and</td>\n",
       "      <td>of</td>\n",
       "      <td>in</td>\n",
       "      <td>to</td>\n",
       "      <td>donnell_leahy</td>\n",
       "      <td>after</td>\n",
       "      <td>is</td>\n",
       "      <td>at</td>\n",
       "      <td>the</td>\n",
       "      <td>that</td>\n",
       "    </tr>\n",
       "    <tr>\n",
       "      <th>kind</th>\n",
       "      <td>sort</td>\n",
       "      <td>kinds</td>\n",
       "      <td>that</td>\n",
       "      <td>sense</td>\n",
       "      <td>dynamism</td>\n",
       "      <td>trite</td>\n",
       "      <td>type</td>\n",
       "      <td>reviewer</td>\n",
       "      <td>ding</td>\n",
       "      <td>a</td>\n",
       "    </tr>\n",
       "    <tr>\n",
       "      <th>time</th>\n",
       "      <td>moment</td>\n",
       "      <td>longtime</td>\n",
       "      <td>and</td>\n",
       "      <td>way</td>\n",
       "      <td>bar_mitzvah</td>\n",
       "      <td>photocopier</td>\n",
       "      <td>night</td>\n",
       "      <td>period</td>\n",
       "      <td>haas</td>\n",
       "      <td>christmas_eve</td>\n",
       "    </tr>\n",
       "    <tr>\n",
       "      <th>'m</th>\n",
       "      <td>am</td>\n",
       "      <td>i</td>\n",
       "      <td>'re</td>\n",
       "      <td>’m</td>\n",
       "      <td>gingerbread</td>\n",
       "      <td>was</td>\n",
       "      <td>want</td>\n",
       "      <td>optimist</td>\n",
       "      <td>myself</td>\n",
       "      <td>skeptic</td>\n",
       "    </tr>\n",
       "    <tr>\n",
       "      <th>at</th>\n",
       "      <td>in</td>\n",
       "      <td>fiddler</td>\n",
       "      <td>the</td>\n",
       "      <td>and</td>\n",
       "      <td>least</td>\n",
       "      <td>for</td>\n",
       "      <td>hockey_sticks</td>\n",
       "      <td>from</td>\n",
       "      <td>on</td>\n",
       "      <td>velociraptor</td>\n",
       "    </tr>\n",
       "    <tr>\n",
       "      <th>had</th>\n",
       "      <td>have</td>\n",
       "      <td>was</td>\n",
       "      <td>has</td>\n",
       "      <td>got</td>\n",
       "      <td>could</td>\n",
       "      <td>'ve</td>\n",
       "      <td>'d</td>\n",
       "      <td>were</td>\n",
       "      <td>kissed</td>\n",
       "      <td>would</td>\n",
       "    </tr>\n",
       "    <tr>\n",
       "      <th>put</th>\n",
       "      <td>putting</td>\n",
       "      <td>take</td>\n",
       "      <td>puts</td>\n",
       "      <td>go</td>\n",
       "      <td>zoom</td>\n",
       "      <td>slam</td>\n",
       "      <td>pull</td>\n",
       "      <td>brought</td>\n",
       "      <td>screamed</td>\n",
       "      <td>stents</td>\n",
       "    </tr>\n",
       "    <tr>\n",
       "      <th>your</th>\n",
       "      <td>my</td>\n",
       "      <td>you</td>\n",
       "      <td>their</td>\n",
       "      <td>our</td>\n",
       "      <td>his</td>\n",
       "      <td>her</td>\n",
       "      <td>cuz</td>\n",
       "      <td>yourself</td>\n",
       "      <td>its</td>\n",
       "      <td>the</td>\n",
       "    </tr>\n",
       "    <tr>\n",
       "      <th>things</th>\n",
       "      <td>ways</td>\n",
       "      <td>thing</td>\n",
       "      <td>places</td>\n",
       "      <td>mindsets</td>\n",
       "      <td>stuff</td>\n",
       "      <td>projects</td>\n",
       "      <td>that</td>\n",
       "      <td>attributes</td>\n",
       "      <td>modes</td>\n",
       "      <td>technologies</td>\n",
       "    </tr>\n",
       "  </tbody>\n",
       "</table>\n",
       "</div>"
      ],
      "text/plain": [
       "              0         1       2         3              4            5  \\\n",
       "'ve        have        'd     ’ve      been            had          got   \n",
       "for         and        of      in        to  donnell_leahy        after   \n",
       "kind       sort     kinds    that     sense       dynamism        trite   \n",
       "time     moment  longtime     and       way    bar_mitzvah  photocopier   \n",
       "'m           am         i     're        ’m    gingerbread          was   \n",
       "at           in   fiddler     the       and          least          for   \n",
       "had        have       was     has       got          could          've   \n",
       "put     putting      take    puts        go           zoom         slam   \n",
       "your         my       you   their       our            his          her   \n",
       "things     ways     thing  places  mindsets          stuff     projects   \n",
       "\n",
       "                    6           7         8              9  \n",
       "'ve               has         're      seen   scholarships  \n",
       "for                is          at       the           that  \n",
       "kind             type    reviewer      ding              a  \n",
       "time            night      period      haas  christmas_eve  \n",
       "'m               want    optimist    myself        skeptic  \n",
       "at      hockey_sticks        from        on   velociraptor  \n",
       "had                'd        were    kissed          would  \n",
       "put              pull     brought  screamed         stents  \n",
       "your              cuz    yourself       its            the  \n",
       "things           that  attributes     modes   technologies  "
      ]
     },
     "execution_count": 61,
     "metadata": {},
     "output_type": "execute_result"
    }
   ],
   "source": [
    "similars = pd.DataFrame()\n",
    "for id in valid_examples:\n",
    "    word = id_to_token[id]\n",
    "    similars[word] = [s[0] for s in model.wv.most_similar(id_to_token[id])]\n",
    "    \n",
    "similars.T"
   ]
  },
  {
   "cell_type": "markdown",
   "metadata": {
    "slideshow": {
     "slide_type": "slide"
    }
   },
   "source": [
    "#### Continue Training"
   ]
  },
  {
   "cell_type": "code",
   "execution_count": 62,
   "metadata": {
    "ExecuteTime": {
     "end_time": "2018-12-07T00:45:39.510380Z",
     "start_time": "2018-12-07T00:39:36.914176Z"
    },
    "slideshow": {
     "slide_type": "fragment"
    }
   },
   "outputs": [
    {
     "name": "stderr",
     "output_type": "stream",
     "text": [
      "/home/stefan/.pyenv/versions/at-3.6/lib/python3.6/site-packages/ipykernel_launcher.py:5: DeprecationWarning: Call to deprecated `accuracy` (Method will be removed in 4.0.0, use self.evaluate_word_analogies() instead).\n",
      "  \"\"\"\n",
      "/home/stefan/.pyenv/versions/at-3.6/lib/python3.6/site-packages/gensim/matutils.py:737: FutureWarning: Conversion of the second argument of issubdtype from `int` to `np.signedinteger` is deprecated. In future, it will be treated as `np.int64 == np.dtype(int).type`.\n",
      "  if np.issubdtype(vec.dtype, np.int):\n"
     ]
    },
    {
     "name": "stdout",
     "output_type": "stream",
     "text": [
      "1 | Duration: 36.0 | Accuracy: 8.03% \n",
      "2 | Duration: 37.1 | Accuracy: 8.69% \n",
      "3 | Duration: 36.1 | Accuracy: 8.91% \n",
      "4 | Duration: 36.1 | Accuracy: 8.43% \n",
      "5 | Duration: 36.5 | Accuracy: 8.52% \n",
      "6 | Duration: 36.3 | Accuracy: 8.77% \n",
      "7 | Duration: 36.0 | Accuracy: 8.96% \n",
      "8 | Duration: 36.1 | Accuracy: 8.64% \n",
      "9 | Duration: 36.4 | Accuracy: 8.88% \n",
      "10 | Duration: 35.9 | Accuracy: 8.57% \n"
     ]
    }
   ],
   "source": [
    "accuracies = [summary]\n",
    "for i in range(1, 11):\n",
    "    start = time()\n",
    "    model.train(sentences, epochs=1, total_examples=model.corpus_count)\n",
    "    detailed_accuracy = model.wv.accuracy(str(ANALOGIES_PATH))\n",
    "    accuracies.append(accuracy_by_category(detailed_accuracy, detail=False))\n",
    "    print('{} | Duration: {:,.1f} | Accuracy: {:.2%} '.format(i, time() - start, accuracies[-1][-1]))\n",
    "\n",
    "pd.DataFrame(accuracies, columns=['correct', 'wrong', 'average']).to_csv(gensim_path / 'accuracies.csv', index=False)\n",
    "model.wv.save(str(gensim_path / 'word_vectors_final.bin'))"
   ]
  },
  {
   "cell_type": "markdown",
   "metadata": {
    "slideshow": {
     "slide_type": "slide"
    }
   },
   "source": [
    "## The `google` command-line Tool"
   ]
  },
  {
   "cell_type": "markdown",
   "metadata": {
    "slideshow": {
     "slide_type": "fragment"
    }
   },
   "source": [
    "### Run from Command Line"
   ]
  },
  {
   "cell_type": "code",
   "execution_count": null,
   "metadata": {
    "slideshow": {
     "slide_type": "fragment"
    }
   },
   "outputs": [],
   "source": [
    "%%bash\n",
    "file_name=../data/wiki/en/wiki.txt\n",
    "time ./word2vec -train \"$file_name\" -output vectors_en.bin - cbow 1 -size 300  -min-count 10  -window 10 -negative 10 -hs 0 -sample 1e-4 -threads 8 -binary 1 -iter 1"
   ]
  },
  {
   "cell_type": "markdown",
   "metadata": {
    "slideshow": {
     "slide_type": "slide"
    }
   },
   "source": [
    "### Load Trained Model & Word Vectors via `gensim`"
   ]
  },
  {
   "cell_type": "code",
   "execution_count": 32,
   "metadata": {
    "slideshow": {
     "slide_type": "fragment"
    }
   },
   "outputs": [],
   "source": [
    "file_name = 'word2vec/word_vectors/vectors_en.bin'\n",
    "model = KeyedVectors.load_word2vec_format(file_name, binary=True, unicode_errors='ignore')"
   ]
  },
  {
   "cell_type": "code",
   "execution_count": 33,
   "metadata": {
    "slideshow": {
     "slide_type": "fragment"
    }
   },
   "outputs": [
    {
     "data": {
      "text/plain": [
       "(100000, 300)"
      ]
     },
     "execution_count": 33,
     "metadata": {},
     "output_type": "execute_result"
    }
   ],
   "source": [
    "vectors = model.vectors[:100000]\n",
    "vectors /= norm(vectors, axis=1).reshape(-1, 1)\n",
    "vectors.shape"
   ]
  },
  {
   "cell_type": "code",
   "execution_count": 34,
   "metadata": {
    "slideshow": {
     "slide_type": "fragment"
    }
   },
   "outputs": [],
   "source": [
    "words = model.index2word[:100000]\n",
    "word2id = {w:i for i, w in enumerate(words)}"
   ]
  },
  {
   "cell_type": "markdown",
   "metadata": {
    "slideshow": {
     "slide_type": "slide"
    }
   },
   "source": [
    "### Compute Accuracy"
   ]
  },
  {
   "cell_type": "code",
   "execution_count": 37,
   "metadata": {
    "slideshow": {
     "slide_type": "fragment"
    }
   },
   "outputs": [],
   "source": [
    "analogy_path = PROJECT_DIR / 'data/analogies/analogies-en.txt'\n",
    "accuracy = model.accuracy(questions=str(analogy_path), restrict_vocab=100000)"
   ]
  },
  {
   "cell_type": "code",
   "execution_count": 38,
   "metadata": {
    "slideshow": {
     "slide_type": "fragment"
    }
   },
   "outputs": [
    {
     "name": "stdout",
     "output_type": "stream",
     "text": [
      "                       category  correct  incorrect  average\n",
      "0      capital-common-countries      459         47     0.91\n",
      "7             gram3-comparative     1207        125     0.91\n",
      "10  gram6-nationality-adjective     1472        168     0.90\n",
      "4                        family      438         68     0.87\n",
      "1                 capital-world     7058       1132     0.86\n",
      "12                 gram8-plural     1082        250     0.81\n",
      "14                        total    17974       6458     0.74\n",
      "11             gram7-past-tense     1118        442     0.72\n",
      "9      gram5-present-participle      726        330     0.69\n",
      "13           gram9-plural-verbs      580        290     0.67\n",
      "2                 city-in-state     2601       1641     0.61\n",
      "8             gram4-superlative      605        387     0.61\n",
      "6                gram2-opposite      254        502     0.34\n",
      "5     gram1-adjective-to-adverb      312        680     0.31\n",
      "3                      currency       62        396     0.14\n",
      "\n",
      "Overall Accuracy: Correct 17,974 | Wrong 6,458 | Avg 73.57%\n",
      "\n"
     ]
    }
   ],
   "source": [
    "summary = accuracy_by_category(accuracy, detail=True)\n",
    "print('\\nOverall Accuracy: Correct {:,.0f} | Wrong {:,.0f} | Avg {:,.2%}\\n'.format(*summary))"
   ]
  },
  {
   "cell_type": "markdown",
   "metadata": {
    "slideshow": {
     "slide_type": "slide"
    }
   },
   "source": [
    "### Project Data using `tensorboard` Projector"
   ]
  },
  {
   "cell_type": "code",
   "execution_count": 66,
   "metadata": {
    "slideshow": {
     "slide_type": "fragment"
    }
   },
   "outputs": [],
   "source": [
    "PROJECTION_LIMIT = 10000\n",
    "proj_path = Path('word2vec', 'projector')\n",
    "pd.Series(words).iloc[:PROJECTION_LIMIT].to_csv(proj_path / 'meta_data.tsv', index=False, header=None, sep='\\t')\n",
    "pd.DataFrame(vectors).iloc[:PROJECTION_LIMIT].to_csv(proj_path / 'embeddings.tsv', index=False, header=None, sep='\\t')"
   ]
  },
  {
   "cell_type": "markdown",
   "metadata": {
    "slideshow": {
     "slide_type": "slide"
    }
   },
   "source": [
    "### Project Analogies"
   ]
  },
  {
   "cell_type": "markdown",
   "metadata": {
    "slideshow": {
     "slide_type": "fragment"
    }
   },
   "source": [
    "#### Incremental PCA"
   ]
  },
  {
   "cell_type": "code",
   "execution_count": 35,
   "metadata": {
    "slideshow": {
     "slide_type": "fragment"
    }
   },
   "outputs": [
    {
     "data": {
      "text/plain": [
       "0   3.69\n",
       "1   3.19\n",
       "dtype: float64"
      ]
     },
     "execution_count": 35,
     "metadata": {},
     "output_type": "execute_result"
    }
   ],
   "source": [
    "pca = IncrementalPCA(n_components=2)\n",
    "\n",
    "vectors2D = pca.fit_transform(vectors)\n",
    "pd.Series(pca.explained_variance_ratio_).mul(100)"
   ]
  },
  {
   "cell_type": "markdown",
   "metadata": {
    "slideshow": {
     "slide_type": "slide"
    }
   },
   "source": [
    "#### Group Analogies by Category"
   ]
  },
  {
   "cell_type": "code",
   "execution_count": 39,
   "metadata": {
    "slideshow": {
     "slide_type": "fragment"
    }
   },
   "outputs": [],
   "source": [
    "results = pd.DataFrame()\n",
    "correct = incorrect = 0\n",
    "for section in accuracy:\n",
    "    correct += len(section['correct'])\n",
    "    incorrect += len(section['incorrect'])\n",
    "    df = pd.DataFrame(section['correct']).apply(lambda x: x.str.lower()).assign(section=section['section'])\n",
    "    results = pd.concat([results, df])"
   ]
  },
  {
   "cell_type": "markdown",
   "metadata": {
    "slideshow": {
     "slide_type": "slide"
    }
   },
   "source": [
    "#### Identify Analogy most similar in 2D"
   ]
  },
  {
   "cell_type": "code",
   "execution_count": 41,
   "metadata": {
    "slideshow": {
     "slide_type": "fragment"
    }
   },
   "outputs": [],
   "source": [
    "def find_most_similar_analogy(v):\n",
    "    \"\"\"Find analogy that most similar in 2D\"\"\"\n",
    "    v1 = vectors2D[v[1]] - vectors2D[v[0]]\n",
    "    v2 = vectors2D[v[3]] - vectors2D[v[2]]\n",
    "    idx, most_similar = None, np.inf\n",
    "    \n",
    "    for i in range(len(v1)):\n",
    "        similarity = cosine(v1[i], v2[i])\n",
    "        if similarity < most_similar:\n",
    "            idx = i\n",
    "            most_similar = similarity\n",
    "    return idx"
   ]
  },
  {
   "cell_type": "code",
   "execution_count": 42,
   "metadata": {
    "slideshow": {
     "slide_type": "fragment"
    }
   },
   "outputs": [],
   "source": [
    "def get_plot_lims(coordinates):\n",
    "    xlim, ylim = coordinates.agg(['min', 'max']).T.values\n",
    "    xrange, yrange = (xlim[1] - xlim[0]) * .1, (ylim[1] - ylim[0]) * .1\n",
    "    xlim[0], xlim[1] = xlim[0] - xrange, xlim[1] + xrange\n",
    "    ylim[0], ylim[1] = ylim[0] - yrange, ylim[1] + yrange\n",
    "    return xlim, ylim"
   ]
  },
  {
   "cell_type": "code",
   "execution_count": 43,
   "metadata": {
    "slideshow": {
     "slide_type": "slide"
    }
   },
   "outputs": [
    {
     "data": {
      "image/png": "[encoded data removed]",
      "text/plain": [
       "<Figure size 1152x648 with 12 Axes>"
      ]
     },
     "metadata": {},
     "output_type": "display_data"
    }
   ],
   "source": [
    "fig, axes = plt.subplots(nrows=3, ncols=4, figsize=(16, 9))\n",
    "axes = axes.flatten()\n",
    "fc = ec = 'darkgrey'\n",
    "for s, (section, result) in enumerate(results.groupby('section')):\n",
    "    if s > 11:\n",
    "        continue\n",
    "        \n",
    "    df = result.drop('section', axis=1).apply(lambda x: x.map(word2id))\n",
    "    most_similar_idx = find_most_similar_analogy(df)\n",
    "    \n",
    "    best_analogy = result.iloc[most_similar_idx, :4].tolist()\n",
    "\n",
    "    analogy_idx = [words.index(word) for word in best_analogy]\n",
    "    best_analogy = [a.capitalize() for a in best_analogy]\n",
    "    \n",
    "    coords = pd.DataFrame(vectors2D[analogy_idx])  # xy array\n",
    "    \n",
    "    xlim, ylim = get_plot_lims(coords)\n",
    "    axes[s].set_xlim(xlim)\n",
    "    axes[s].set_ylim(ylim)\n",
    "\n",
    "    for i in [0, 2]:\n",
    "        axes[s].annotate(s=best_analogy[i], xy=coords.iloc[i+1], xytext=coords.iloc[i],\n",
    "                         arrowprops=dict(width=1,headwidth=5, headlength=5,\n",
    "                                         fc=fc, ec=ec, shrink=.1),\n",
    "                         fontsize=12)\n",
    "    \n",
    "        axes[s].annotate(best_analogy[i+1], xy=coords.iloc[i+1],\n",
    "                         xytext=coords.iloc[i+1],\n",
    "                         va='center', ha='center',\n",
    "                         fontsize=12, color='darkred' if i == 2 else 'k');\n",
    "\n",
    "    axes[s].axis('off')\n",
    "    title = ' '.join([s.capitalize()\n",
    "                      for s in section.split('-') if not s.startswith('gram')])\n",
    "    axes[s].set_title(title, fontsize=16)\n",
    "\n",
    "fig.tight_layout();"
   ]
  },
  {
   "cell_type": "markdown",
   "metadata": {},
   "source": [
    "## Resources\n",
    "\n",
    "- [Distributed representations of words and phrases and their compositionality](http://papers.nips.cc/paper/5021-distributed-representations-of-words-and-phrases-and-their-compositionality.pdf)\n",
    "- [Efficient estimation of word representations in vector space](https://arxiv.org/pdf/1301.3781.pdf?)\n",
    "- [Sebastian Ruder's Blog](http://ruder.io/word-embeddings-1/)"
   ]
  }
 ],
 "metadata": {
  "celltoolbar": "Slideshow",
  "kernelspec": {
   "display_name": "Python 3",
   "language": "python",
   "name": "python3"
  },
  "language_info": {
   "codemirror_mode": {
    "name": "ipython",
    "version": 3
   },
   "file_extension": ".py",
   "mimetype": "text/x-python",
   "name": "python",
   "nbconvert_exporter": "python",
   "pygments_lexer": "ipython3",
   "version": "3.6.4"
  },
  "toc": {
   "base_numbering": 1,
   "nav_menu": {},
   "number_sections": true,
   "sideBar": true,
   "skip_h1_title": false,
   "title_cell": "Table of Contents",
   "title_sidebar": "Contents",
   "toc_cell": false,
   "toc_position": {
    "height": "47px",
    "left": "38px",
    "right": "1340px",
    "top": "66.5px",
    "width": "457px"
   },
   "toc_section_display": true,
   "toc_window_display": true
  }
 },
 "nbformat": 4,
 "nbformat_minor": 2
}
