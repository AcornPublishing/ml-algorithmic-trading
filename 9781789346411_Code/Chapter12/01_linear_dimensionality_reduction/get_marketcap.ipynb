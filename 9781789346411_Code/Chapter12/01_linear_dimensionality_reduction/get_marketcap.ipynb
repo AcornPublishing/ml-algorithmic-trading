{
 "cells": [
  {
   "cell_type": "code",
   "execution_count": 12,
   "metadata": {
    "ExecuteTime": {
     "end_time": "2018-11-14T15:30:15.756126Z",
     "start_time": "2018-11-14T15:30:15.749248Z"
    }
   },
   "outputs": [],
   "source": [
    "%matplotlib inline\n",
    "\n",
    "import warnings\n",
    "import os\n",
    "from pathlib import Path\n",
    "import numpy as np\n",
    "import pandas as pd\n",
    "\n",
    "import matplotlib.pyplot as plt\n",
    "import seaborn as sns"
   ]
  },
  {
   "cell_type": "code",
   "execution_count": 13,
   "metadata": {
    "ExecuteTime": {
     "end_time": "2018-11-14T15:30:15.917941Z",
     "start_time": "2018-11-14T15:30:15.908754Z"
    }
   },
   "outputs": [],
   "source": [
    "warnings.filterwarnings('ignore')\n",
    "plt.style.use('ggplot')\n",
    "np.random.seed(42)"
   ]
  },
  {
   "cell_type": "markdown",
   "metadata": {},
   "source": [
    "## Clean Marketcap info"
   ]
  },
  {
   "cell_type": "code",
   "execution_count": 31,
   "metadata": {
    "ExecuteTime": {
     "end_time": "2018-11-14T15:33:09.781260Z",
     "start_time": "2018-11-14T15:33:09.767453Z"
    }
   },
   "outputs": [],
   "source": [
    "with pd.HDFStore('../../data/assets.h5') as store:\n",
    "    stocks = store['us_equities/stocks']"
   ]
  },
  {
   "cell_type": "code",
   "execution_count": 32,
   "metadata": {
    "ExecuteTime": {
     "end_time": "2018-11-14T15:33:10.369430Z",
     "start_time": "2018-11-14T15:33:10.349310Z"
    }
   },
   "outputs": [
    {
     "name": "stdout",
     "output_type": "stream",
     "text": [
      "<class 'pandas.core.frame.DataFrame'>\n",
      "Index: 6834 entries, PIH to ZYME\n",
      "Data columns (total 6 columns):\n",
      "name         6834 non-null object\n",
      "lastsale     6718 non-null float64\n",
      "marketcap    5769 non-null object\n",
      "ipoyear      3038 non-null float64\n",
      "sector       5288 non-null object\n",
      "industry     5288 non-null object\n",
      "dtypes: float64(2), object(4)\n",
      "memory usage: 373.7+ KB\n"
     ]
    }
   ],
   "source": [
    "stocks.info()"
   ]
  },
  {
   "cell_type": "code",
   "execution_count": 33,
   "metadata": {
    "ExecuteTime": {
     "end_time": "2018-11-14T15:33:10.557032Z",
     "start_time": "2018-11-14T15:33:10.532666Z"
    }
   },
   "outputs": [
    {
     "data": {
      "text/html": [
       "<div>\n",
       "<style scoped>\n",
       "    .dataframe tbody tr th:only-of-type {\n",
       "        vertical-align: middle;\n",
       "    }\n",
       "\n",
       "    .dataframe tbody tr th {\n",
       "        vertical-align: top;\n",
       "    }\n",
       "\n",
       "    .dataframe thead th {\n",
       "        text-align: right;\n",
       "    }\n",
       "</style>\n",
       "<table border=\"1\" class=\"dataframe\">\n",
       "  <thead>\n",
       "    <tr style=\"text-align: right;\">\n",
       "      <th></th>\n",
       "      <th>name</th>\n",
       "      <th>lastsale</th>\n",
       "      <th>marketcap</th>\n",
       "      <th>ipoyear</th>\n",
       "      <th>sector</th>\n",
       "      <th>industry</th>\n",
       "    </tr>\n",
       "    <tr>\n",
       "      <th>ticker</th>\n",
       "      <th></th>\n",
       "      <th></th>\n",
       "      <th></th>\n",
       "      <th></th>\n",
       "      <th></th>\n",
       "      <th></th>\n",
       "    </tr>\n",
       "  </thead>\n",
       "  <tbody>\n",
       "    <tr>\n",
       "      <th>PIH</th>\n",
       "      <td>1347 Property Insurance Holdings, Inc.</td>\n",
       "      <td>7.2001</td>\n",
       "      <td>$43.09M</td>\n",
       "      <td>2014.0</td>\n",
       "      <td>Finance</td>\n",
       "      <td>Property-Casualty Insurers</td>\n",
       "    </tr>\n",
       "    <tr>\n",
       "      <th>PIHPP</th>\n",
       "      <td>1347 Property Insurance Holdings, Inc.</td>\n",
       "      <td>25.6200</td>\n",
       "      <td>NaN</td>\n",
       "      <td>NaN</td>\n",
       "      <td>Finance</td>\n",
       "      <td>Property-Casualty Insurers</td>\n",
       "    </tr>\n",
       "    <tr>\n",
       "      <th>TURN</th>\n",
       "      <td>180 Degree Capital Corp.</td>\n",
       "      <td>2.2600</td>\n",
       "      <td>$70.33M</td>\n",
       "      <td>NaN</td>\n",
       "      <td>Finance</td>\n",
       "      <td>Finance/Investors Services</td>\n",
       "    </tr>\n",
       "    <tr>\n",
       "      <th>FLWS</th>\n",
       "      <td>1-800 FLOWERS.COM, Inc.</td>\n",
       "      <td>12.9000</td>\n",
       "      <td>$833.39M</td>\n",
       "      <td>1999.0</td>\n",
       "      <td>Consumer Services</td>\n",
       "      <td>Other Specialty Stores</td>\n",
       "    </tr>\n",
       "    <tr>\n",
       "      <th>FCCY</th>\n",
       "      <td>1st Constitution Bancorp (NJ)</td>\n",
       "      <td>21.3000</td>\n",
       "      <td>$178.14M</td>\n",
       "      <td>NaN</td>\n",
       "      <td>Finance</td>\n",
       "      <td>Savings Institutions</td>\n",
       "    </tr>\n",
       "  </tbody>\n",
       "</table>\n",
       "</div>"
      ],
      "text/plain": [
       "                                          name  lastsale marketcap  ipoyear  \\\n",
       "ticker                                                                        \n",
       "PIH     1347 Property Insurance Holdings, Inc.    7.2001   $43.09M   2014.0   \n",
       "PIHPP   1347 Property Insurance Holdings, Inc.   25.6200       NaN      NaN   \n",
       "TURN                  180 Degree Capital Corp.    2.2600   $70.33M      NaN   \n",
       "FLWS                   1-800 FLOWERS.COM, Inc.   12.9000  $833.39M   1999.0   \n",
       "FCCY             1st Constitution Bancorp (NJ)   21.3000  $178.14M      NaN   \n",
       "\n",
       "                   sector                    industry  \n",
       "ticker                                                 \n",
       "PIH               Finance  Property-Casualty Insurers  \n",
       "PIHPP             Finance  Property-Casualty Insurers  \n",
       "TURN              Finance  Finance/Investors Services  \n",
       "FLWS    Consumer Services      Other Specialty Stores  \n",
       "FCCY              Finance        Savings Institutions  "
      ]
     },
     "execution_count": 33,
     "metadata": {},
     "output_type": "execute_result"
    }
   ],
   "source": [
    "stocks.head()"
   ]
  },
  {
   "cell_type": "code",
   "execution_count": 34,
   "metadata": {
    "ExecuteTime": {
     "end_time": "2018-11-14T15:33:10.901648Z",
     "start_time": "2018-11-14T15:33:10.841437Z"
    }
   },
   "outputs": [],
   "source": [
    "stocks = stocks[stocks.marketcap.notnull() & stocks.marketcap.str[-1].isin(['M', 'B'])]\n",
    "stocks.marketcap = stocks.marketcap.str.replace('$', '')"
   ]
  },
  {
   "cell_type": "code",
   "execution_count": 35,
   "metadata": {
    "ExecuteTime": {
     "end_time": "2018-11-14T15:33:12.509642Z",
     "start_time": "2018-11-14T15:33:12.506173Z"
    }
   },
   "outputs": [
    {
     "data": {
      "text/plain": [
       "ticker\n",
       "PIH      43.09M\n",
       "TURN     70.33M\n",
       "FLWS    833.39M\n",
       "FCCY    178.14M\n",
       "SRCE      1.41B\n",
       "Name: marketcap, dtype: object"
      ]
     },
     "execution_count": 35,
     "metadata": {},
     "output_type": "execute_result"
    }
   ],
   "source": [
    "stocks.marketcap.head()"
   ]
  },
  {
   "cell_type": "code",
   "execution_count": 36,
   "metadata": {
    "ExecuteTime": {
     "end_time": "2018-11-14T15:33:12.862937Z",
     "start_time": "2018-11-14T15:33:12.738380Z"
    }
   },
   "outputs": [],
   "source": [
    "for s, val in {'M': 1e6, 'B': 1e9}.items():\n",
    "    stocks.loc[stocks.marketcap.str[-1] == s, 'marketcap'] = (stocks\n",
    "                                                              .loc[stocks.marketcap.str[-1] == s, 'marketcap']\n",
    "                                                              .str.replace(s, '')\n",
    "                                                              .apply(pd.to_numeric)\n",
    "                                                              .mul(val)\n",
    "                                                              .astype(int))"
   ]
  },
  {
   "cell_type": "code",
   "execution_count": 37,
   "metadata": {
    "ExecuteTime": {
     "end_time": "2018-11-14T15:33:13.389314Z",
     "start_time": "2018-11-14T15:33:13.186335Z"
    }
   },
   "outputs": [
    {
     "data": {
      "image/png": "[encoded data removed]",
      "text/plain": [
       "<Figure size 432x288 with 1 Axes>"
      ]
     },
     "metadata": {},
     "output_type": "display_data"
    }
   ],
   "source": [
    "sns.distplot(np.log(stocks.marketcap));"
   ]
  },
  {
   "cell_type": "code",
   "execution_count": 38,
   "metadata": {
    "ExecuteTime": {
     "end_time": "2018-11-14T15:33:20.758145Z",
     "start_time": "2018-11-14T15:33:20.753954Z"
    }
   },
   "outputs": [],
   "source": [
    "marketcap = stocks['marketcap']"
   ]
  },
  {
   "cell_type": "code",
   "execution_count": 43,
   "metadata": {
    "ExecuteTime": {
     "end_time": "2018-11-14T15:34:29.643037Z",
     "start_time": "2018-11-14T15:34:29.603989Z"
    }
   },
   "outputs": [],
   "source": [
    "with pd.HDFStore('../../data/assets.h5') as store:\n",
    "    stocks = store['us_equities/stocks'].assign(marketcap=marketcap)\n",
    "    store.put('us_equities/stocks', stocks)"
   ]
  },
  {
   "cell_type": "code",
   "execution_count": null,
   "metadata": {},
   "outputs": [],
   "source": []
  }
 ],
 "metadata": {
  "kernelspec": {
   "display_name": "Python 3",
   "language": "python",
   "name": "python3"
  },
  "language_info": {
   "codemirror_mode": {
    "name": "ipython",
    "version": 3
   },
   "file_extension": ".py",
   "mimetype": "text/x-python",
   "name": "python",
   "nbconvert_exporter": "python",
   "pygments_lexer": "ipython3",
   "version": "3.6.4"
  },
  "toc": {
   "base_numbering": 1,
   "nav_menu": {},
   "number_sections": true,
   "sideBar": true,
   "skip_h1_title": false,
   "title_cell": "Table of Contents",
   "title_sidebar": "Contents",
   "toc_cell": false,
   "toc_position": {},
   "toc_section_display": true,
   "toc_window_display": false
  }
 },
 "nbformat": 4,
 "nbformat_minor": 2
}
