{
 "cells": [
  {
   "cell_type": "code",
   "execution_count": 106,
   "metadata": {
    "ExecuteTime": {
     "end_time": "2018-10-07T22:51:49.819470Z",
     "start_time": "2018-10-07T22:51:49.801938Z"
    }
   },
   "outputs": [],
   "source": [
    "%matplotlib inline\n",
    "\n",
    "import warnings\n",
    "from datetime import datetime\n",
    "import os\n",
    "from pathlib import Path\n",
    "import quandl\n",
    "import numpy as np\n",
    "import matplotlib.pyplot as plt\n",
    "import pandas as pd\n",
    "import pandas_datareader.data as web\n",
    "from pandas_datareader.famafrench import get_available_datasets\n",
    "from pyfinance.ols import PandasRollingOLS\n",
    "from sklearn.feature_selection import mutual_info_classif"
   ]
  },
  {
   "cell_type": "code",
   "execution_count": 2,
   "metadata": {
    "ExecuteTime": {
     "end_time": "2018-10-04T04:37:22.666632Z",
     "start_time": "2018-10-04T04:37:22.657611Z"
    }
   },
   "outputs": [],
   "source": [
    "warnings.filterwarnings('ignore')\n",
    "plt.style.use('fivethirtyeight')\n",
    "idx = pd.IndexSlice"
   ]
  },
  {
   "cell_type": "markdown",
   "metadata": {},
   "source": [
    "## Get Data"
   ]
  },
  {
   "cell_type": "code",
   "execution_count": 59,
   "metadata": {
    "ExecuteTime": {
     "end_time": "2018-10-04T05:51:14.349698Z",
     "start_time": "2018-10-04T05:51:10.821248Z"
    }
   },
   "outputs": [],
   "source": [
    "with pd.HDFStore('../data/assets.h5') as store:\n",
    "    prices = store['quandl/wiki/prices'].loc[idx['2000':'2018', :], 'adj_close'].unstack('ticker')\n",
    "    stocks = store['us_equities/stocks'].loc[:, ['marketcap', 'ipoyear', 'sector']]\n",
    "    stocks = stocks[~stocks.index.duplicated()]"
   ]
  },
  {
   "cell_type": "markdown",
   "metadata": {},
   "source": [
    "### Keep data with stock info"
   ]
  },
  {
   "cell_type": "code",
   "execution_count": 60,
   "metadata": {
    "ExecuteTime": {
     "end_time": "2018-10-04T05:51:14.356167Z",
     "start_time": "2018-10-04T05:51:14.350712Z"
    }
   },
   "outputs": [
    {
     "name": "stdout",
     "output_type": "stream",
     "text": [
      "<class 'pandas.core.frame.DataFrame'>\n",
      "Index: 6834 entries, PIH to ZYME\n",
      "Data columns (total 3 columns):\n",
      "marketcap    5769 non-null object\n",
      "ipoyear      3038 non-null float64\n",
      "sector       5288 non-null object\n",
      "dtypes: float64(1), object(2)\n",
      "memory usage: 213.6+ KB\n"
     ]
    }
   ],
   "source": [
    "stocks.info()"
   ]
  },
  {
   "cell_type": "code",
   "execution_count": 61,
   "metadata": {
    "ExecuteTime": {
     "end_time": "2018-10-04T05:51:14.449427Z",
     "start_time": "2018-10-04T05:51:14.357407Z"
    }
   },
   "outputs": [
    {
     "name": "stdout",
     "output_type": "stream",
     "text": [
      "<class 'pandas.core.frame.DataFrame'>\n",
      "DatetimeIndex: 4706 entries, 2000-01-03 to 2018-03-27\n",
      "Columns: 3199 entries, A to ZUMZ\n",
      "dtypes: float64(3199)\n",
      "memory usage: 114.9 MB\n"
     ]
    }
   ],
   "source": [
    "prices.info()"
   ]
  },
  {
   "cell_type": "markdown",
   "metadata": {},
   "source": [
    "## Create monthly return series"
   ]
  },
  {
   "cell_type": "markdown",
   "metadata": {},
   "source": [
    "Winsorize outliers"
   ]
  },
  {
   "cell_type": "code",
   "execution_count": 62,
   "metadata": {
    "ExecuteTime": {
     "end_time": "2018-10-04T05:51:15.961225Z",
     "start_time": "2018-10-04T05:51:15.928526Z"
    }
   },
   "outputs": [],
   "source": [
    "monthly_prices = prices.resample('M').last()"
   ]
  },
  {
   "cell_type": "code",
   "execution_count": 80,
   "metadata": {
    "ExecuteTime": {
     "end_time": "2018-10-04T05:53:44.013353Z",
     "start_time": "2018-10-04T05:53:37.397779Z"
    }
   },
   "outputs": [
    {
     "name": "stdout",
     "output_type": "stream",
     "text": [
      "<class 'pandas.core.frame.DataFrame'>\n",
      "MultiIndex: 521806 entries, (A, 2001-01-31 00:00:00) to (ZUMZ, 2018-03-31 00:00:00)\n",
      "Data columns (total 6 columns):\n",
      "return_1m     521806 non-null float64\n",
      "return_2m     521806 non-null float64\n",
      "return_3m     521806 non-null float64\n",
      "return_6m     521806 non-null float64\n",
      "return_9m     521806 non-null float64\n",
      "return_12m    521806 non-null float64\n",
      "dtypes: float64(6)\n",
      "memory usage: 25.9+ MB\n"
     ]
    }
   ],
   "source": [
    "outlier_cutoff = 0.01\n",
    "data = pd.DataFrame()\n",
    "for i in [1, 2, 3, 6, 9, 12]:\n",
    "    data[f'return_{i}m'] = (monthly_prices\n",
    "                           .pct_change(i)\n",
    "                           .stack()\n",
    "                           .pipe(lambda x: x.clip(lower=x.quantile(outlier_cutoff),\n",
    "                                                  upper=x.quantile(1-outlier_cutoff)))\n",
    "                           .add(1)\n",
    "                           .pow(1/i)\n",
    "                           .sub(1)\n",
    "                           )\n",
    "data = data.swaplevel().dropna()\n",
    "data.info()"
   ]
  },
  {
   "cell_type": "markdown",
   "metadata": {},
   "source": [
    "## Drop stocks with less than 10 yrs of returns"
   ]
  },
  {
   "cell_type": "code",
   "execution_count": 81,
   "metadata": {
    "ExecuteTime": {
     "end_time": "2018-10-04T05:53:46.609204Z",
     "start_time": "2018-10-04T05:53:44.014489Z"
    }
   },
   "outputs": [
    {
     "name": "stdout",
     "output_type": "stream",
     "text": [
      "<class 'pandas.core.frame.DataFrame'>\n",
      "MultiIndex: 465935 entries, (A, 2001-01-31 00:00:00) to (ZUMZ, 2018-03-31 00:00:00)\n",
      "Data columns (total 6 columns):\n",
      "return_1m     465935 non-null float64\n",
      "return_2m     465935 non-null float64\n",
      "return_3m     465935 non-null float64\n",
      "return_6m     465935 non-null float64\n",
      "return_9m     465935 non-null float64\n",
      "return_12m    465935 non-null float64\n",
      "dtypes: float64(6)\n",
      "memory usage: 23.1+ MB\n"
     ]
    }
   ],
   "source": [
    "min_obs = 120\n",
    "nobs = data.groupby(level='ticker').size()\n",
    "keep = nobs[nobs>min_obs].index\n",
    "\n",
    "data = data.loc[idx[keep,:], :]\n",
    "data.info()"
   ]
  },
  {
   "cell_type": "code",
   "execution_count": 65,
   "metadata": {
    "ExecuteTime": {
     "end_time": "2018-10-04T05:51:34.646629Z",
     "start_time": "2018-10-04T05:51:34.528744Z"
    }
   },
   "outputs": [
    {
     "data": {
      "text/html": [
       "<div>\n",
       "<style scoped>\n",
       "    .dataframe tbody tr th:only-of-type {\n",
       "        vertical-align: middle;\n",
       "    }\n",
       "\n",
       "    .dataframe tbody tr th {\n",
       "        vertical-align: top;\n",
       "    }\n",
       "\n",
       "    .dataframe thead th {\n",
       "        text-align: right;\n",
       "    }\n",
       "</style>\n",
       "<table border=\"1\" class=\"dataframe\">\n",
       "  <thead>\n",
       "    <tr style=\"text-align: right;\">\n",
       "      <th></th>\n",
       "      <th>return_1m</th>\n",
       "      <th>return_2m</th>\n",
       "      <th>return_3m</th>\n",
       "      <th>return_6m</th>\n",
       "      <th>return_9m</th>\n",
       "      <th>return_12m</th>\n",
       "    </tr>\n",
       "  </thead>\n",
       "  <tbody>\n",
       "    <tr>\n",
       "      <th>count</th>\n",
       "      <td>465935.000000</td>\n",
       "      <td>465935.000000</td>\n",
       "      <td>465935.000000</td>\n",
       "      <td>465935.000000</td>\n",
       "      <td>465935.000000</td>\n",
       "      <td>465935.000000</td>\n",
       "    </tr>\n",
       "    <tr>\n",
       "      <th>mean</th>\n",
       "      <td>0.011694</td>\n",
       "      <td>0.008454</td>\n",
       "      <td>0.007306</td>\n",
       "      <td>0.006036</td>\n",
       "      <td>0.005542</td>\n",
       "      <td>0.005285</td>\n",
       "    </tr>\n",
       "    <tr>\n",
       "      <th>std</th>\n",
       "      <td>0.117872</td>\n",
       "      <td>0.084059</td>\n",
       "      <td>0.069195</td>\n",
       "      <td>0.050674</td>\n",
       "      <td>0.041919</td>\n",
       "      <td>0.036635</td>\n",
       "    </tr>\n",
       "    <tr>\n",
       "      <th>min</th>\n",
       "      <td>-0.343442</td>\n",
       "      <td>-0.269341</td>\n",
       "      <td>-0.229978</td>\n",
       "      <td>-0.175426</td>\n",
       "      <td>-0.145071</td>\n",
       "      <td>-0.125787</td>\n",
       "    </tr>\n",
       "    <tr>\n",
       "      <th>25%</th>\n",
       "      <td>-0.046679</td>\n",
       "      <td>-0.031096</td>\n",
       "      <td>-0.024413</td>\n",
       "      <td>-0.015632</td>\n",
       "      <td>-0.012035</td>\n",
       "      <td>-0.009962</td>\n",
       "    </tr>\n",
       "    <tr>\n",
       "      <th>50%</th>\n",
       "      <td>0.006369</td>\n",
       "      <td>0.007476</td>\n",
       "      <td>0.007810</td>\n",
       "      <td>0.008024</td>\n",
       "      <td>0.007924</td>\n",
       "      <td>0.007852</td>\n",
       "    </tr>\n",
       "    <tr>\n",
       "      <th>75%</th>\n",
       "      <td>0.065314</td>\n",
       "      <td>0.048890</td>\n",
       "      <td>0.041722</td>\n",
       "      <td>0.031742</td>\n",
       "      <td>0.027062</td>\n",
       "      <td>0.024439</td>\n",
       "    </tr>\n",
       "    <tr>\n",
       "      <th>max</th>\n",
       "      <td>0.449446</td>\n",
       "      <td>0.294075</td>\n",
       "      <td>0.230064</td>\n",
       "      <td>0.159207</td>\n",
       "      <td>0.128147</td>\n",
       "      <td>0.108809</td>\n",
       "    </tr>\n",
       "  </tbody>\n",
       "</table>\n",
       "</div>"
      ],
      "text/plain": [
       "           return_1m      return_2m      return_3m      return_6m  \\\n",
       "count  465935.000000  465935.000000  465935.000000  465935.000000   \n",
       "mean        0.011694       0.008454       0.007306       0.006036   \n",
       "std         0.117872       0.084059       0.069195       0.050674   \n",
       "min        -0.343442      -0.269341      -0.229978      -0.175426   \n",
       "25%        -0.046679      -0.031096      -0.024413      -0.015632   \n",
       "50%         0.006369       0.007476       0.007810       0.008024   \n",
       "75%         0.065314       0.048890       0.041722       0.031742   \n",
       "max         0.449446       0.294075       0.230064       0.159207   \n",
       "\n",
       "           return_9m     return_12m  \n",
       "count  465935.000000  465935.000000  \n",
       "mean        0.005542       0.005285  \n",
       "std         0.041919       0.036635  \n",
       "min        -0.145071      -0.125787  \n",
       "25%        -0.012035      -0.009962  \n",
       "50%         0.007924       0.007852  \n",
       "75%         0.027062       0.024439  \n",
       "max         0.128147       0.108809  "
      ]
     },
     "execution_count": 65,
     "metadata": {},
     "output_type": "execute_result"
    }
   ],
   "source": [
    "data.describe()"
   ]
  },
  {
   "cell_type": "code",
   "execution_count": 66,
   "metadata": {
    "ExecuteTime": {
     "end_time": "2018-10-04T05:51:37.859139Z",
     "start_time": "2018-10-04T05:51:34.647731Z"
    }
   },
   "outputs": [
    {
     "data": {
      "image/png": "[encoded data removed]",
      "text/plain": [
       "<Figure size 720x720 with 4 Axes>"
      ]
     },
     "metadata": {},
     "output_type": "display_data"
    }
   ],
   "source": [
    "# cmap = sns.diverging_palette(10, 220, as_cmap=True)\n",
    "sns.clustermap(data.corr('spearman'), annot=True, center=0, cmap='Blues');"
   ]
  },
  {
   "cell_type": "code",
   "execution_count": 82,
   "metadata": {
    "ExecuteTime": {
     "end_time": "2018-10-04T05:53:49.442892Z",
     "start_time": "2018-10-04T05:53:49.424023Z"
    }
   },
   "outputs": [
    {
     "data": {
      "text/plain": [
       "2385"
      ]
     },
     "execution_count": 82,
     "metadata": {},
     "output_type": "execute_result"
    }
   ],
   "source": [
    "data.index.get_level_values('ticker').nunique()"
   ]
  },
  {
   "cell_type": "markdown",
   "metadata": {},
   "source": [
    "## Rolling Factor Betas"
   ]
  },
  {
   "cell_type": "code",
   "execution_count": 75,
   "metadata": {
    "ExecuteTime": {
     "end_time": "2018-10-04T05:53:03.567760Z",
     "start_time": "2018-10-04T05:53:03.477664Z"
    },
    "scrolled": true
   },
   "outputs": [
    {
     "name": "stdout",
     "output_type": "stream",
     "text": [
      "<class 'pandas.core.frame.DataFrame'>\n",
      "DatetimeIndex: 224 entries, 2000-01-31 to 2018-08-31\n",
      "Freq: M\n",
      "Data columns (total 5 columns):\n",
      "Mkt-RF    224 non-null float64\n",
      "SMB       224 non-null float64\n",
      "HML       224 non-null float64\n",
      "RMW       224 non-null float64\n",
      "CMA       224 non-null float64\n",
      "dtypes: float64(5)\n",
      "memory usage: 10.5 KB\n"
     ]
    }
   ],
   "source": [
    "factors = ['Mkt-RF', 'SMB', 'HML', 'RMW', 'CMA']\n",
    "factor_data = web.DataReader('F-F_Research_Data_5_Factors_2x3', 'famafrench', start='2000')[0].drop('RF', axis=1)\n",
    "factor_data.index = factor_data.index.to_timestamp()\n",
    "factor_data = factor_data.resample('M').last().div(100)\n",
    "factor_data.index.name = 'date'\n",
    "factor_data.info()"
   ]
  },
  {
   "cell_type": "code",
   "execution_count": 76,
   "metadata": {
    "ExecuteTime": {
     "end_time": "2018-10-04T05:53:04.121823Z",
     "start_time": "2018-10-04T05:53:03.809911Z"
    },
    "scrolled": true
   },
   "outputs": [
    {
     "name": "stdout",
     "output_type": "stream",
     "text": [
      "<class 'pandas.core.frame.DataFrame'>\n",
      "MultiIndex: 465935 entries, (A, 2001-01-31 00:00:00) to (ZUMZ, 2018-03-31 00:00:00)\n",
      "Data columns (total 6 columns):\n",
      "Mkt-RF       465935 non-null float64\n",
      "SMB          465935 non-null float64\n",
      "HML          465935 non-null float64\n",
      "RMW          465935 non-null float64\n",
      "CMA          465935 non-null float64\n",
      "return_1m    465935 non-null float64\n",
      "dtypes: float64(6)\n",
      "memory usage: 23.1+ MB\n"
     ]
    }
   ],
   "source": [
    "factor_data = factor_data.join(data['return_1m']).sort_index()\n",
    "factor_data.info()"
   ]
  },
  {
   "cell_type": "code",
   "execution_count": 77,
   "metadata": {
    "ExecuteTime": {
     "end_time": "2018-10-04T05:53:11.942196Z",
     "start_time": "2018-10-04T05:53:07.571848Z"
    }
   },
   "outputs": [],
   "source": [
    "T = 24\n",
    "betas = (factor_data\n",
    "         .groupby(level='ticker', group_keys=False)\n",
    "         .apply(lambda x: PandasRollingOLS(window=min(T, x.shape[0]-1), y=x.return_1m, x=x.drop('return_1m', axis=1)).beta))"
   ]
  },
  {
   "cell_type": "code",
   "execution_count": 78,
   "metadata": {
    "ExecuteTime": {
     "end_time": "2018-10-04T05:53:12.097313Z",
     "start_time": "2018-10-04T05:53:11.943451Z"
    }
   },
   "outputs": [
    {
     "data": {
      "text/html": [
       "<div>\n",
       "<style scoped>\n",
       "    .dataframe tbody tr th:only-of-type {\n",
       "        vertical-align: middle;\n",
       "    }\n",
       "\n",
       "    .dataframe tbody tr th {\n",
       "        vertical-align: top;\n",
       "    }\n",
       "\n",
       "    .dataframe thead th {\n",
       "        text-align: right;\n",
       "    }\n",
       "</style>\n",
       "<table border=\"1\" class=\"dataframe\">\n",
       "  <thead>\n",
       "    <tr style=\"text-align: right;\">\n",
       "      <th></th>\n",
       "      <th>Mkt-RF</th>\n",
       "      <th>SMB</th>\n",
       "      <th>HML</th>\n",
       "      <th>RMW</th>\n",
       "      <th>CMA</th>\n",
       "      <th>total</th>\n",
       "    </tr>\n",
       "  </thead>\n",
       "  <tbody>\n",
       "    <tr>\n",
       "      <th>count</th>\n",
       "      <td>411080.000000</td>\n",
       "      <td>411080.000000</td>\n",
       "      <td>411080.000000</td>\n",
       "      <td>411080.000000</td>\n",
       "      <td>411080.000000</td>\n",
       "      <td>411080.000000</td>\n",
       "    </tr>\n",
       "    <tr>\n",
       "      <th>mean</th>\n",
       "      <td>0.973156</td>\n",
       "      <td>0.637658</td>\n",
       "      <td>0.115768</td>\n",
       "      <td>-0.104197</td>\n",
       "      <td>0.013427</td>\n",
       "      <td>1.635812</td>\n",
       "    </tr>\n",
       "    <tr>\n",
       "      <th>std</th>\n",
       "      <td>0.950561</td>\n",
       "      <td>1.299051</td>\n",
       "      <td>1.637550</td>\n",
       "      <td>2.054787</td>\n",
       "      <td>2.270756</td>\n",
       "      <td>3.693267</td>\n",
       "    </tr>\n",
       "    <tr>\n",
       "      <th>min</th>\n",
       "      <td>-9.433446</td>\n",
       "      <td>-10.325247</td>\n",
       "      <td>-16.017401</td>\n",
       "      <td>-26.596829</td>\n",
       "      <td>-20.610665</td>\n",
       "      <td>-37.961078</td>\n",
       "    </tr>\n",
       "    <tr>\n",
       "      <th>25%</th>\n",
       "      <td>0.426276</td>\n",
       "      <td>-0.115787</td>\n",
       "      <td>-0.719145</td>\n",
       "      <td>-1.070263</td>\n",
       "      <td>-1.121142</td>\n",
       "      <td>-0.220023</td>\n",
       "    </tr>\n",
       "    <tr>\n",
       "      <th>50%</th>\n",
       "      <td>0.918116</td>\n",
       "      <td>0.543169</td>\n",
       "      <td>0.075415</td>\n",
       "      <td>0.000000</td>\n",
       "      <td>0.022011</td>\n",
       "      <td>1.559376</td>\n",
       "    </tr>\n",
       "    <tr>\n",
       "      <th>75%</th>\n",
       "      <td>1.461329</td>\n",
       "      <td>1.332403</td>\n",
       "      <td>0.932054</td>\n",
       "      <td>0.968088</td>\n",
       "      <td>1.161355</td>\n",
       "      <td>3.509337</td>\n",
       "    </tr>\n",
       "    <tr>\n",
       "      <th>max</th>\n",
       "      <td>10.247627</td>\n",
       "      <td>10.743238</td>\n",
       "      <td>14.065201</td>\n",
       "      <td>18.232822</td>\n",
       "      <td>18.704300</td>\n",
       "      <td>35.582264</td>\n",
       "    </tr>\n",
       "  </tbody>\n",
       "</table>\n",
       "</div>"
      ],
      "text/plain": [
       "              Mkt-RF            SMB            HML            RMW  \\\n",
       "count  411080.000000  411080.000000  411080.000000  411080.000000   \n",
       "mean        0.973156       0.637658       0.115768      -0.104197   \n",
       "std         0.950561       1.299051       1.637550       2.054787   \n",
       "min        -9.433446     -10.325247     -16.017401     -26.596829   \n",
       "25%         0.426276      -0.115787      -0.719145      -1.070263   \n",
       "50%         0.918116       0.543169       0.075415       0.000000   \n",
       "75%         1.461329       1.332403       0.932054       0.968088   \n",
       "max        10.247627      10.743238      14.065201      18.232822   \n",
       "\n",
       "                 CMA          total  \n",
       "count  411080.000000  411080.000000  \n",
       "mean        0.013427       1.635812  \n",
       "std         2.270756       3.693267  \n",
       "min       -20.610665     -37.961078  \n",
       "25%        -1.121142      -0.220023  \n",
       "50%         0.022011       1.559376  \n",
       "75%         1.161355       3.509337  \n",
       "max        18.704300      35.582264  "
      ]
     },
     "execution_count": 78,
     "metadata": {},
     "output_type": "execute_result"
    }
   ],
   "source": [
    "betas.describe().join(betas.sum(1).describe().to_frame('total'))"
   ]
  },
  {
   "cell_type": "code",
   "execution_count": 72,
   "metadata": {
    "ExecuteTime": {
     "end_time": "2018-10-04T05:51:43.451726Z",
     "start_time": "2018-10-04T05:51:43.135129Z"
    }
   },
   "outputs": [
    {
     "data": {
      "image/png": "[encoded data removed]",
      "text/plain": [
       "<Figure size 720x720 with 4 Axes>"
      ]
     },
     "metadata": {},
     "output_type": "display_data"
    }
   ],
   "source": [
    "cmap = sns.diverging_palette(10, 220, as_cmap=True)\n",
    "sns.clustermap(betas.corr(), annot=True, cmap=cmap, center=0);"
   ]
  },
  {
   "cell_type": "code",
   "execution_count": 83,
   "metadata": {
    "ExecuteTime": {
     "end_time": "2018-10-04T05:53:58.766072Z",
     "start_time": "2018-10-04T05:53:56.817643Z"
    },
    "scrolled": true
   },
   "outputs": [
    {
     "name": "stdout",
     "output_type": "stream",
     "text": [
      "<class 'pandas.core.frame.DataFrame'>\n",
      "MultiIndex: 465935 entries, (A, 2001-01-31 00:00:00) to (ZUMZ, 2018-03-31 00:00:00)\n",
      "Data columns (total 11 columns):\n",
      "return_1m     465935 non-null float64\n",
      "return_2m     465935 non-null float64\n",
      "return_3m     465935 non-null float64\n",
      "return_6m     465935 non-null float64\n",
      "return_9m     465935 non-null float64\n",
      "return_12m    465935 non-null float64\n",
      "Mkt-RF        408695 non-null float64\n",
      "SMB           408695 non-null float64\n",
      "HML           408695 non-null float64\n",
      "RMW           408695 non-null float64\n",
      "CMA           408695 non-null float64\n",
      "dtypes: float64(11)\n",
      "memory usage: 60.9+ MB\n"
     ]
    }
   ],
   "source": [
    "data = (data\n",
    "        .join(betas\n",
    "              .groupby(level='ticker')\n",
    "              .shift()))\n",
    "data.info()"
   ]
  },
  {
   "cell_type": "markdown",
   "metadata": {},
   "source": [
    "### Impute mean for missing factor betas"
   ]
  },
  {
   "cell_type": "code",
   "execution_count": 84,
   "metadata": {
    "ExecuteTime": {
     "end_time": "2018-10-04T05:54:46.358612Z",
     "start_time": "2018-10-04T05:54:42.176811Z"
    }
   },
   "outputs": [
    {
     "name": "stdout",
     "output_type": "stream",
     "text": [
      "<class 'pandas.core.frame.DataFrame'>\n",
      "MultiIndex: 465935 entries, (A, 2001-01-31 00:00:00) to (ZUMZ, 2018-03-31 00:00:00)\n",
      "Data columns (total 11 columns):\n",
      "return_1m     465935 non-null float64\n",
      "return_2m     465935 non-null float64\n",
      "return_3m     465935 non-null float64\n",
      "return_6m     465935 non-null float64\n",
      "return_9m     465935 non-null float64\n",
      "return_12m    465935 non-null float64\n",
      "Mkt-RF        465935 non-null float64\n",
      "SMB           465935 non-null float64\n",
      "HML           465935 non-null float64\n",
      "RMW           465935 non-null float64\n",
      "CMA           465935 non-null float64\n",
      "dtypes: float64(11)\n",
      "memory usage: 60.9+ MB\n"
     ]
    }
   ],
   "source": [
    "data.loc[:, factors] = data.groupby('ticker')[factors].apply(lambda x: x.fillna(x.mean()))\n",
    "data.info()"
   ]
  },
  {
   "cell_type": "markdown",
   "metadata": {},
   "source": [
    "## Momentum factors"
   ]
  },
  {
   "cell_type": "code",
   "execution_count": 85,
   "metadata": {
    "ExecuteTime": {
     "end_time": "2018-10-04T05:55:25.994214Z",
     "start_time": "2018-10-04T05:55:25.983533Z"
    }
   },
   "outputs": [],
   "source": [
    "for lag in [2,3,6,9,12]:\n",
    "    data[f'momentum_{lag}'] = data[f'return_{lag}m'].sub(data.return_1m)\n",
    "data[f'momentum_3_12'] = data[f'return_12m'].sub(data.return_3m)"
   ]
  },
  {
   "cell_type": "markdown",
   "metadata": {},
   "source": [
    "## Date Indicators"
   ]
  },
  {
   "cell_type": "code",
   "execution_count": 86,
   "metadata": {
    "ExecuteTime": {
     "end_time": "2018-10-04T05:55:27.403128Z",
     "start_time": "2018-10-04T05:55:27.373512Z"
    }
   },
   "outputs": [],
   "source": [
    "dates = data.index.get_level_values('date')\n",
    "data['year'] = dates.year\n",
    "data['month'] = dates.month"
   ]
  },
  {
   "cell_type": "markdown",
   "metadata": {},
   "source": [
    "## Lagged returns"
   ]
  },
  {
   "cell_type": "code",
   "execution_count": 87,
   "metadata": {
    "ExecuteTime": {
     "end_time": "2018-10-04T05:55:28.969101Z",
     "start_time": "2018-10-04T05:55:28.522692Z"
    }
   },
   "outputs": [
    {
     "name": "stdout",
     "output_type": "stream",
     "text": [
      "<class 'pandas.core.frame.DataFrame'>\n",
      "MultiIndex: 465935 entries, (A, 2001-01-31 00:00:00) to (ZUMZ, 2018-03-31 00:00:00)\n",
      "Data columns (total 25 columns):\n",
      "return_1m        465935 non-null float64\n",
      "return_2m        465935 non-null float64\n",
      "return_3m        465935 non-null float64\n",
      "return_6m        465935 non-null float64\n",
      "return_9m        465935 non-null float64\n",
      "return_12m       465935 non-null float64\n",
      "Mkt-RF           465935 non-null float64\n",
      "SMB              465935 non-null float64\n",
      "HML              465935 non-null float64\n",
      "RMW              465935 non-null float64\n",
      "CMA              465935 non-null float64\n",
      "momentum_2       465935 non-null float64\n",
      "momentum_3       465935 non-null float64\n",
      "momentum_6       465935 non-null float64\n",
      "momentum_9       465935 non-null float64\n",
      "momentum_12      465935 non-null float64\n",
      "momentum_3_12    465935 non-null float64\n",
      "year             465935 non-null int64\n",
      "month            465935 non-null int64\n",
      "return_1m_t-1    463550 non-null float64\n",
      "return_1m_t-2    461165 non-null float64\n",
      "return_1m_t-3    458780 non-null float64\n",
      "return_1m_t-4    456395 non-null float64\n",
      "return_1m_t-5    454010 non-null float64\n",
      "return_1m_t-6    451625 non-null float64\n",
      "dtypes: float64(23), int64(2)\n",
      "memory usage: 110.7+ MB\n"
     ]
    }
   ],
   "source": [
    "for t in range(1, 7):\n",
    "    data[f'return_1m_t-{t}'] = data.groupby(level='ticker').return_1m.shift(t)\n",
    "# data = data.dropna(thresh=int(len(data.columns) * outlier_threshold))\n",
    "# data = data.dropna()\n",
    "data.info()"
   ]
  },
  {
   "cell_type": "markdown",
   "metadata": {},
   "source": [
    "## Target: Holding Period Returns"
   ]
  },
  {
   "cell_type": "code",
   "execution_count": 88,
   "metadata": {
    "ExecuteTime": {
     "end_time": "2018-10-04T05:55:34.557689Z",
     "start_time": "2018-10-04T05:55:34.270625Z"
    }
   },
   "outputs": [],
   "source": [
    "for t in [1,2,3,6,12]:\n",
    "    data[f'target_{t}m'] = data.groupby(level='ticker')[f'return_{t}m'].shift(-t)"
   ]
  },
  {
   "cell_type": "code",
   "execution_count": 89,
   "metadata": {
    "ExecuteTime": {
     "end_time": "2018-10-04T05:55:35.697077Z",
     "start_time": "2018-10-04T05:55:35.341924Z"
    }
   },
   "outputs": [
    {
     "data": {
      "text/html": [
       "<div>\n",
       "<style scoped>\n",
       "    .dataframe tbody tr th:only-of-type {\n",
       "        vertical-align: middle;\n",
       "    }\n",
       "\n",
       "    .dataframe tbody tr th {\n",
       "        vertical-align: top;\n",
       "    }\n",
       "\n",
       "    .dataframe thead th {\n",
       "        text-align: right;\n",
       "    }\n",
       "</style>\n",
       "<table border=\"1\" class=\"dataframe\">\n",
       "  <thead>\n",
       "    <tr style=\"text-align: right;\">\n",
       "      <th></th>\n",
       "      <th></th>\n",
       "      <th>target_1m</th>\n",
       "      <th>target_2m</th>\n",
       "      <th>target_3m</th>\n",
       "      <th>return_1m</th>\n",
       "      <th>return_2m</th>\n",
       "      <th>return_3m</th>\n",
       "      <th>return_1m_t-1</th>\n",
       "      <th>return_1m_t-2</th>\n",
       "      <th>return_1m_t-3</th>\n",
       "    </tr>\n",
       "    <tr>\n",
       "      <th>ticker</th>\n",
       "      <th>date</th>\n",
       "      <th></th>\n",
       "      <th></th>\n",
       "      <th></th>\n",
       "      <th></th>\n",
       "      <th></th>\n",
       "      <th></th>\n",
       "      <th></th>\n",
       "      <th></th>\n",
       "      <th></th>\n",
       "    </tr>\n",
       "  </thead>\n",
       "  <tbody>\n",
       "    <tr>\n",
       "      <th rowspan=\"10\" valign=\"top\">A</th>\n",
       "      <th>2001-04-30</th>\n",
       "      <td>-0.140220</td>\n",
       "      <td>-0.087246</td>\n",
       "      <td>-0.098192</td>\n",
       "      <td>0.269444</td>\n",
       "      <td>0.040966</td>\n",
       "      <td>-0.105747</td>\n",
       "      <td>-0.146389</td>\n",
       "      <td>-0.340055</td>\n",
       "      <td>-0.003653</td>\n",
       "    </tr>\n",
       "    <tr>\n",
       "      <th>2001-05-31</th>\n",
       "      <td>-0.031008</td>\n",
       "      <td>-0.076414</td>\n",
       "      <td>-0.075527</td>\n",
       "      <td>-0.140220</td>\n",
       "      <td>0.044721</td>\n",
       "      <td>-0.023317</td>\n",
       "      <td>0.269444</td>\n",
       "      <td>-0.146389</td>\n",
       "      <td>-0.340055</td>\n",
       "    </tr>\n",
       "    <tr>\n",
       "      <th>2001-06-30</th>\n",
       "      <td>-0.119692</td>\n",
       "      <td>-0.097014</td>\n",
       "      <td>-0.155847</td>\n",
       "      <td>-0.031008</td>\n",
       "      <td>-0.087246</td>\n",
       "      <td>0.018842</td>\n",
       "      <td>-0.140220</td>\n",
       "      <td>0.269444</td>\n",
       "      <td>-0.146389</td>\n",
       "    </tr>\n",
       "    <tr>\n",
       "      <th>2001-07-31</th>\n",
       "      <td>-0.073750</td>\n",
       "      <td>-0.173364</td>\n",
       "      <td>-0.080114</td>\n",
       "      <td>-0.119692</td>\n",
       "      <td>-0.076414</td>\n",
       "      <td>-0.098192</td>\n",
       "      <td>-0.031008</td>\n",
       "      <td>-0.140220</td>\n",
       "      <td>0.269444</td>\n",
       "    </tr>\n",
       "    <tr>\n",
       "      <th>2001-08-31</th>\n",
       "      <td>-0.262264</td>\n",
       "      <td>-0.083279</td>\n",
       "      <td>0.009593</td>\n",
       "      <td>-0.073750</td>\n",
       "      <td>-0.097014</td>\n",
       "      <td>-0.075527</td>\n",
       "      <td>-0.119692</td>\n",
       "      <td>-0.031008</td>\n",
       "      <td>-0.140220</td>\n",
       "    </tr>\n",
       "    <tr>\n",
       "      <th>2001-09-30</th>\n",
       "      <td>0.139130</td>\n",
       "      <td>0.181052</td>\n",
       "      <td>0.134010</td>\n",
       "      <td>-0.262264</td>\n",
       "      <td>-0.173364</td>\n",
       "      <td>-0.155847</td>\n",
       "      <td>-0.073750</td>\n",
       "      <td>-0.119692</td>\n",
       "      <td>-0.031008</td>\n",
       "    </tr>\n",
       "    <tr>\n",
       "      <th>2001-10-31</th>\n",
       "      <td>0.224517</td>\n",
       "      <td>0.131458</td>\n",
       "      <td>0.108697</td>\n",
       "      <td>0.139130</td>\n",
       "      <td>-0.083279</td>\n",
       "      <td>-0.080114</td>\n",
       "      <td>-0.262264</td>\n",
       "      <td>-0.073750</td>\n",
       "      <td>-0.119692</td>\n",
       "    </tr>\n",
       "    <tr>\n",
       "      <th>2001-11-30</th>\n",
       "      <td>0.045471</td>\n",
       "      <td>0.054962</td>\n",
       "      <td>0.045340</td>\n",
       "      <td>0.224517</td>\n",
       "      <td>0.181052</td>\n",
       "      <td>0.009593</td>\n",
       "      <td>0.139130</td>\n",
       "      <td>-0.262264</td>\n",
       "      <td>-0.073750</td>\n",
       "    </tr>\n",
       "    <tr>\n",
       "      <th>2001-12-31</th>\n",
       "      <td>0.064539</td>\n",
       "      <td>0.045275</td>\n",
       "      <td>0.070347</td>\n",
       "      <td>0.045471</td>\n",
       "      <td>0.131458</td>\n",
       "      <td>0.134010</td>\n",
       "      <td>0.224517</td>\n",
       "      <td>0.139130</td>\n",
       "      <td>-0.262264</td>\n",
       "    </tr>\n",
       "    <tr>\n",
       "      <th>2002-01-31</th>\n",
       "      <td>0.026359</td>\n",
       "      <td>0.073264</td>\n",
       "      <td>-0.003306</td>\n",
       "      <td>0.064539</td>\n",
       "      <td>0.054962</td>\n",
       "      <td>0.108697</td>\n",
       "      <td>0.045471</td>\n",
       "      <td>0.224517</td>\n",
       "      <td>0.139130</td>\n",
       "    </tr>\n",
       "  </tbody>\n",
       "</table>\n",
       "</div>"
      ],
      "text/plain": [
       "                   target_1m  target_2m  target_3m  return_1m  return_2m  \\\n",
       "ticker date                                                                \n",
       "A      2001-04-30  -0.140220  -0.087246  -0.098192   0.269444   0.040966   \n",
       "       2001-05-31  -0.031008  -0.076414  -0.075527  -0.140220   0.044721   \n",
       "       2001-06-30  -0.119692  -0.097014  -0.155847  -0.031008  -0.087246   \n",
       "       2001-07-31  -0.073750  -0.173364  -0.080114  -0.119692  -0.076414   \n",
       "       2001-08-31  -0.262264  -0.083279   0.009593  -0.073750  -0.097014   \n",
       "       2001-09-30   0.139130   0.181052   0.134010  -0.262264  -0.173364   \n",
       "       2001-10-31   0.224517   0.131458   0.108697   0.139130  -0.083279   \n",
       "       2001-11-30   0.045471   0.054962   0.045340   0.224517   0.181052   \n",
       "       2001-12-31   0.064539   0.045275   0.070347   0.045471   0.131458   \n",
       "       2002-01-31   0.026359   0.073264  -0.003306   0.064539   0.054962   \n",
       "\n",
       "                   return_3m  return_1m_t-1  return_1m_t-2  return_1m_t-3  \n",
       "ticker date                                                                \n",
       "A      2001-04-30  -0.105747      -0.146389      -0.340055      -0.003653  \n",
       "       2001-05-31  -0.023317       0.269444      -0.146389      -0.340055  \n",
       "       2001-06-30   0.018842      -0.140220       0.269444      -0.146389  \n",
       "       2001-07-31  -0.098192      -0.031008      -0.140220       0.269444  \n",
       "       2001-08-31  -0.075527      -0.119692      -0.031008      -0.140220  \n",
       "       2001-09-30  -0.155847      -0.073750      -0.119692      -0.031008  \n",
       "       2001-10-31  -0.080114      -0.262264      -0.073750      -0.119692  \n",
       "       2001-11-30   0.009593       0.139130      -0.262264      -0.073750  \n",
       "       2001-12-31   0.134010       0.224517       0.139130      -0.262264  \n",
       "       2002-01-31   0.108697       0.045471       0.224517       0.139130  "
      ]
     },
     "execution_count": 89,
     "metadata": {},
     "output_type": "execute_result"
    }
   ],
   "source": [
    "cols = ['target_1m',\n",
    "        'target_2m',\n",
    "        'target_3m', 'return_1m',\n",
    "        'return_2m',\n",
    "        'return_3m',\n",
    "        'return_1m_t-1',\n",
    "        'return_1m_t-2',\n",
    "        'return_1m_t-3']\n",
    "\n",
    "data[cols].dropna().sort_index().head(10)"
   ]
  },
  {
   "cell_type": "code",
   "execution_count": 90,
   "metadata": {
    "ExecuteTime": {
     "end_time": "2018-10-04T05:55:37.790286Z",
     "start_time": "2018-10-04T05:55:37.664854Z"
    }
   },
   "outputs": [
    {
     "name": "stdout",
     "output_type": "stream",
     "text": [
      "<class 'pandas.core.frame.DataFrame'>\n",
      "MultiIndex: 465935 entries, (A, 2001-01-31 00:00:00) to (ZUMZ, 2018-03-31 00:00:00)\n",
      "Data columns (total 30 columns):\n",
      "return_1m        465935 non-null float64\n",
      "return_2m        465935 non-null float64\n",
      "return_3m        465935 non-null float64\n",
      "return_6m        465935 non-null float64\n",
      "return_9m        465935 non-null float64\n",
      "return_12m       465935 non-null float64\n",
      "Mkt-RF           465935 non-null float64\n",
      "SMB              465935 non-null float64\n",
      "HML              465935 non-null float64\n",
      "RMW              465935 non-null float64\n",
      "CMA              465935 non-null float64\n",
      "momentum_2       465935 non-null float64\n",
      "momentum_3       465935 non-null float64\n",
      "momentum_6       465935 non-null float64\n",
      "momentum_9       465935 non-null float64\n",
      "momentum_12      465935 non-null float64\n",
      "momentum_3_12    465935 non-null float64\n",
      "year             465935 non-null int64\n",
      "month            465935 non-null int64\n",
      "return_1m_t-1    463550 non-null float64\n",
      "return_1m_t-2    461165 non-null float64\n",
      "return_1m_t-3    458780 non-null float64\n",
      "return_1m_t-4    456395 non-null float64\n",
      "return_1m_t-5    454010 non-null float64\n",
      "return_1m_t-6    451625 non-null float64\n",
      "target_1m        463550 non-null float64\n",
      "target_2m        461165 non-null float64\n",
      "target_3m        458780 non-null float64\n",
      "target_6m        451625 non-null float64\n",
      "target_12m       437315 non-null float64\n",
      "dtypes: float64(28), int64(2)\n",
      "memory usage: 128.4+ MB\n"
     ]
    }
   ],
   "source": [
    "data.info()"
   ]
  },
  {
   "cell_type": "markdown",
   "metadata": {},
   "source": [
    "## Create age proxy"
   ]
  },
  {
   "cell_type": "code",
   "execution_count": 91,
   "metadata": {
    "ExecuteTime": {
     "end_time": "2018-10-04T05:55:40.648178Z",
     "start_time": "2018-10-04T05:55:40.593071Z"
    }
   },
   "outputs": [],
   "source": [
    "data = (data\n",
    "        .join(pd.qcut(stocks.ipoyear, q=5, labels=list(range(1, 6)))\n",
    "              .astype(float)\n",
    "              .fillna(0)\n",
    "              .astype(int)\n",
    "              .to_frame('age')))\n",
    "data.age = data.age.fillna(-1)"
   ]
  },
  {
   "cell_type": "markdown",
   "metadata": {},
   "source": [
    "## Create dynamic size proxy"
   ]
  },
  {
   "cell_type": "code",
   "execution_count": 92,
   "metadata": {
    "ExecuteTime": {
     "end_time": "2018-10-04T05:55:41.780819Z",
     "start_time": "2018-10-04T05:55:41.766858Z"
    }
   },
   "outputs": [
    {
     "name": "stdout",
     "output_type": "stream",
     "text": [
      "<class 'pandas.core.frame.DataFrame'>\n",
      "Index: 5766 entries, PIH to ZYME\n",
      "Data columns (total 4 columns):\n",
      "marketcap    5766 non-null float64\n",
      "ipoyear      2792 non-null float64\n",
      "sector       4849 non-null object\n",
      "mcap         5766 non-null object\n",
      "dtypes: float64(2), object(2)\n",
      "memory usage: 225.2+ KB\n"
     ]
    }
   ],
   "source": [
    "stocks.marketcap = stocks.marketcap.str.replace('$', '')\n",
    "stocks['mcap'] = stocks.marketcap.str[-1]\n",
    "stocks.marketcap =  pd.to_numeric(stocks.marketcap.str[:-1])\n",
    "stocks = stocks[stocks.mcap.isin(['B', 'M'])]\n",
    "stocks.info()"
   ]
  },
  {
   "cell_type": "code",
   "execution_count": 93,
   "metadata": {
    "ExecuteTime": {
     "end_time": "2018-10-04T05:55:42.446837Z",
     "start_time": "2018-10-04T05:55:42.179589Z"
    }
   },
   "outputs": [
    {
     "data": {
      "text/plain": [
       "count      5766.000000\n",
       "mean       7283.441186\n",
       "std       33439.520061\n",
       "min           1.060000\n",
       "25%         160.987500\n",
       "50%         718.495000\n",
       "75%        3277.500000\n",
       "max      903990.000000\n",
       "Name: marketcap, dtype: float64"
      ]
     },
     "execution_count": 93,
     "metadata": {},
     "output_type": "execute_result"
    }
   ],
   "source": [
    "stocks.marketcap = stocks.apply(lambda x: x.marketcap * 1000 if x.mcap == 'B' else x.marketcap, axis=1)\n",
    "stocks.marketcap.describe()"
   ]
  },
  {
   "cell_type": "code",
   "execution_count": 94,
   "metadata": {
    "ExecuteTime": {
     "end_time": "2018-10-04T05:55:49.544721Z",
     "start_time": "2018-10-04T05:55:49.453967Z"
    }
   },
   "outputs": [
    {
     "name": "stdout",
     "output_type": "stream",
     "text": [
      "<class 'pandas.core.frame.DataFrame'>\n",
      "DatetimeIndex: 207 entries, 2018-03-31 to 2001-01-31\n",
      "Freq: -1M\n",
      "Columns: 2385 entries, A to UFS\n",
      "dtypes: float64(2385)\n",
      "memory usage: 3.8 MB\n"
     ]
    }
   ],
   "source": [
    "size_factor = (monthly_prices\n",
    "               .loc[data.index.get_level_values('date').unique(),\n",
    "                    data.index.get_level_values('ticker').unique()]\n",
    "               .sort_index(ascending=False)\n",
    "               .pct_change()\n",
    "               .fillna(0)\n",
    "               .add(1)\n",
    "               .cumprod())\n",
    "size_factor.info()"
   ]
  },
  {
   "cell_type": "code",
   "execution_count": 95,
   "metadata": {
    "ExecuteTime": {
     "end_time": "2018-10-04T05:55:52.633579Z",
     "start_time": "2018-10-04T05:55:52.622924Z"
    }
   },
   "outputs": [],
   "source": [
    "msize = (size_factor\n",
    "         .mul(stocks\n",
    "              .loc[size_factor.columns, 'marketcap'])).dropna(axis=1, how='all')"
   ]
  },
  {
   "cell_type": "code",
   "execution_count": 96,
   "metadata": {
    "ExecuteTime": {
     "end_time": "2018-10-04T05:55:55.088207Z",
     "start_time": "2018-10-04T05:55:54.088890Z"
    }
   },
   "outputs": [],
   "source": [
    "data['msize'] = (msize\n",
    "                 .apply(lambda x: pd.qcut(x, q=10, labels=list(range(1, 11)))\n",
    "                        .astype(int), axis=1)\n",
    "                 .stack()\n",
    "                 .swaplevel())\n",
    "data.msize = data.msize.fillna(-1)"
   ]
  },
  {
   "cell_type": "markdown",
   "metadata": {},
   "source": [
    "## Combine data"
   ]
  },
  {
   "cell_type": "code",
   "execution_count": 97,
   "metadata": {
    "ExecuteTime": {
     "end_time": "2018-10-04T05:55:58.490132Z",
     "start_time": "2018-10-04T05:55:58.445941Z"
    }
   },
   "outputs": [],
   "source": [
    "data = data.join(stocks[['sector']])\n",
    "data.sector = data.sector.fillna('Unknown')"
   ]
  },
  {
   "cell_type": "code",
   "execution_count": 98,
   "metadata": {
    "ExecuteTime": {
     "end_time": "2018-10-04T05:55:58.984900Z",
     "start_time": "2018-10-04T05:55:58.750173Z"
    },
    "scrolled": false
   },
   "outputs": [
    {
     "name": "stdout",
     "output_type": "stream",
     "text": [
      "<class 'pandas.core.frame.DataFrame'>\n",
      "MultiIndex: 465935 entries, (A, 2001-01-31 00:00:00) to (ZUMZ, 2018-03-31 00:00:00)\n",
      "Data columns (total 33 columns):\n",
      "return_1m        465935 non-null float64\n",
      "return_2m        465935 non-null float64\n",
      "return_3m        465935 non-null float64\n",
      "return_6m        465935 non-null float64\n",
      "return_9m        465935 non-null float64\n",
      "return_12m       465935 non-null float64\n",
      "Mkt-RF           465935 non-null float64\n",
      "SMB              465935 non-null float64\n",
      "HML              465935 non-null float64\n",
      "RMW              465935 non-null float64\n",
      "CMA              465935 non-null float64\n",
      "momentum_2       465935 non-null float64\n",
      "momentum_3       465935 non-null float64\n",
      "momentum_6       465935 non-null float64\n",
      "momentum_9       465935 non-null float64\n",
      "momentum_12      465935 non-null float64\n",
      "momentum_3_12    465935 non-null float64\n",
      "year             465935 non-null int64\n",
      "month            465935 non-null int64\n",
      "return_1m_t-1    463550 non-null float64\n",
      "return_1m_t-2    461165 non-null float64\n",
      "return_1m_t-3    458780 non-null float64\n",
      "return_1m_t-4    456395 non-null float64\n",
      "return_1m_t-5    454010 non-null float64\n",
      "return_1m_t-6    451625 non-null float64\n",
      "target_1m        463550 non-null float64\n",
      "target_2m        461165 non-null float64\n",
      "target_3m        458780 non-null float64\n",
      "target_6m        451625 non-null float64\n",
      "target_12m       437315 non-null float64\n",
      "age              465935 non-null float64\n",
      "msize            465935 non-null float64\n",
      "sector           465935 non-null object\n",
      "dtypes: float64(30), int64(2), object(1)\n",
      "memory usage: 139.3+ MB\n"
     ]
    }
   ],
   "source": [
    "data.info()"
   ]
  },
  {
   "cell_type": "markdown",
   "metadata": {},
   "source": [
    "## Store data"
   ]
  },
  {
   "cell_type": "code",
   "execution_count": 101,
   "metadata": {
    "ExecuteTime": {
     "end_time": "2018-10-04T05:58:07.866124Z",
     "start_time": "2018-10-04T05:58:07.382653Z"
    }
   },
   "outputs": [],
   "source": [
    "with pd.HDFStore('data.h5') as store:\n",
    "    store.put('data', data.sort_index().loc[idx[:, :datetime(2018, 3, 1)], :])"
   ]
  },
  {
   "cell_type": "markdown",
   "metadata": {},
   "source": [
    "## Create Dummy variables"
   ]
  },
  {
   "cell_type": "code",
   "execution_count": 107,
   "metadata": {
    "ExecuteTime": {
     "end_time": "2018-10-07T22:52:05.826023Z",
     "start_time": "2018-10-07T22:52:05.044003Z"
    },
    "scrolled": true
   },
   "outputs": [
    {
     "name": "stdout",
     "output_type": "stream",
     "text": [
      "<class 'pandas.core.frame.DataFrame'>\n",
      "MultiIndex: 465935 entries, (A, 2001-01-31 00:00:00) to (ZUMZ, 2018-03-31 00:00:00)\n",
      "Data columns (total 89 columns):\n",
      "return_1m                465935 non-null float64\n",
      "return_2m                465935 non-null float64\n",
      "return_3m                465935 non-null float64\n",
      "return_6m                465935 non-null float64\n",
      "return_9m                465935 non-null float64\n",
      "return_12m               465935 non-null float64\n",
      "Mkt-RF                   465935 non-null float64\n",
      "SMB                      465935 non-null float64\n",
      "HML                      465935 non-null float64\n",
      "RMW                      465935 non-null float64\n",
      "CMA                      465935 non-null float64\n",
      "momentum_2               465935 non-null float64\n",
      "momentum_3               465935 non-null float64\n",
      "momentum_6               465935 non-null float64\n",
      "momentum_9               465935 non-null float64\n",
      "momentum_12              465935 non-null float64\n",
      "momentum_3_12            465935 non-null float64\n",
      "return_1m_t-1            463550 non-null float64\n",
      "return_1m_t-2            461165 non-null float64\n",
      "return_1m_t-3            458780 non-null float64\n",
      "return_1m_t-4            456395 non-null float64\n",
      "return_1m_t-5            454010 non-null float64\n",
      "return_1m_t-6            451625 non-null float64\n",
      "target_1m                463550 non-null float64\n",
      "target_2m                461165 non-null float64\n",
      "target_3m                458780 non-null float64\n",
      "target_6m                451625 non-null float64\n",
      "target_12m               437315 non-null float64\n",
      "year_2001                465935 non-null uint8\n",
      "year_2002                465935 non-null uint8\n",
      "year_2003                465935 non-null uint8\n",
      "year_2004                465935 non-null uint8\n",
      "year_2005                465935 non-null uint8\n",
      "year_2006                465935 non-null uint8\n",
      "year_2007                465935 non-null uint8\n",
      "year_2008                465935 non-null uint8\n",
      "year_2009                465935 non-null uint8\n",
      "year_2010                465935 non-null uint8\n",
      "year_2011                465935 non-null uint8\n",
      "year_2012                465935 non-null uint8\n",
      "year_2013                465935 non-null uint8\n",
      "year_2014                465935 non-null uint8\n",
      "year_2015                465935 non-null uint8\n",
      "year_2016                465935 non-null uint8\n",
      "year_2017                465935 non-null uint8\n",
      "year_2018                465935 non-null uint8\n",
      "month_1                  465935 non-null uint8\n",
      "month_2                  465935 non-null uint8\n",
      "month_3                  465935 non-null uint8\n",
      "month_4                  465935 non-null uint8\n",
      "month_5                  465935 non-null uint8\n",
      "month_6                  465935 non-null uint8\n",
      "month_7                  465935 non-null uint8\n",
      "month_8                  465935 non-null uint8\n",
      "month_9                  465935 non-null uint8\n",
      "month_10                 465935 non-null uint8\n",
      "month_11                 465935 non-null uint8\n",
      "month_12                 465935 non-null uint8\n",
      "msize_-1                 465935 non-null uint8\n",
      "msize_1                  465935 non-null uint8\n",
      "msize_2                  465935 non-null uint8\n",
      "msize_3                  465935 non-null uint8\n",
      "msize_4                  465935 non-null uint8\n",
      "msize_5                  465935 non-null uint8\n",
      "msize_6                  465935 non-null uint8\n",
      "msize_7                  465935 non-null uint8\n",
      "msize_8                  465935 non-null uint8\n",
      "msize_9                  465935 non-null uint8\n",
      "msize_10                 465935 non-null uint8\n",
      "age_-1                   465935 non-null uint8\n",
      "age_0                    465935 non-null uint8\n",
      "age_1                    465935 non-null uint8\n",
      "age_2                    465935 non-null uint8\n",
      "age_3                    465935 non-null uint8\n",
      "age_4                    465935 non-null uint8\n",
      "age_5                    465935 non-null uint8\n",
      "Basic Industries         465935 non-null uint8\n",
      "Capital Goods            465935 non-null uint8\n",
      "Consumer Durables        465935 non-null uint8\n",
      "Consumer Non-Durables    465935 non-null uint8\n",
      "Consumer Services        465935 non-null uint8\n",
      "Energy                   465935 non-null uint8\n",
      "Finance                  465935 non-null uint8\n",
      "Health Care              465935 non-null uint8\n",
      "Miscellaneous            465935 non-null uint8\n",
      "Public Utilities         465935 non-null uint8\n",
      "Technology               465935 non-null uint8\n",
      "Transportation           465935 non-null uint8\n",
      "Unknown                  465935 non-null uint8\n",
      "dtypes: float64(28), uint8(61)\n",
      "memory usage: 128.4+ MB\n"
     ]
    }
   ],
   "source": [
    "dummy_data = pd.get_dummies(data,\n",
    "                            columns=['year','month', 'msize', 'age',  'sector'],\n",
    "                            prefix=['year','month', 'msize', 'age', ''],\n",
    "                            prefix_sep=['_', '_', '_', '_', ''])\n",
    "dummy_data = dummy_data.rename(columns={c:c.replace('.0', '') for c in dummy_data.columns})\n",
    "dummy_data.info()"
   ]
  },
  {
   "cell_type": "markdown",
   "metadata": {},
   "source": [
    "### Mutual Information"
   ]
  },
  {
   "cell_type": "markdown",
   "metadata": {},
   "source": [
    "#### Original Data"
   ]
  },
  {
   "cell_type": "code",
   "execution_count": 169,
   "metadata": {
    "ExecuteTime": {
     "end_time": "2018-10-08T13:23:07.456092Z",
     "start_time": "2018-10-08T13:23:07.047775Z"
    }
   },
   "outputs": [],
   "source": [
    "target_labels = [f'target_{i}m' for i in [1,2,3,6,12]]\n",
    "targets = data.dropna().loc[:, target_labels]\n",
    "\n",
    "features = data.dropna().drop(target_labels, axis=1)\n",
    "features.sector = pd.factorize(features.sector)[0]\n",
    "\n",
    "cat_cols = ['year', 'month', 'msize', 'age', 'sector']\n",
    "discrete_features = [features.columns.get_loc(c) for c in cat_cols]"
   ]
  },
  {
   "cell_type": "code",
   "execution_count": 170,
   "metadata": {
    "ExecuteTime": {
     "end_time": "2018-10-08T13:30:40.531025Z",
     "start_time": "2018-10-08T13:23:19.940930Z"
    }
   },
   "outputs": [],
   "source": [
    "mutual_info = pd.DataFrame()\n",
    "for label in target_labels:\n",
    "    mi = mutual_info_classif(X=features, \n",
    "                             y=(targets[label]> 0).astype(int),\n",
    "                             discrete_features=discrete_features,\n",
    "                             random_state=42\n",
    "                            )\n",
    "    mutual_info[label] = pd.Series(mi, index=features.columns)"
   ]
  },
  {
   "cell_type": "code",
   "execution_count": 171,
   "metadata": {
    "ExecuteTime": {
     "end_time": "2018-10-08T13:30:40.535840Z",
     "start_time": "2018-10-08T13:30:40.532218Z"
    }
   },
   "outputs": [
    {
     "data": {
      "text/plain": [
       "target_1m     0.195866\n",
       "target_2m     0.227797\n",
       "target_3m     0.252658\n",
       "target_6m     0.316750\n",
       "target_12m    0.385409\n",
       "dtype: float64"
      ]
     },
     "execution_count": 171,
     "metadata": {},
     "output_type": "execute_result"
    }
   ],
   "source": [
    "mutual_info.sum()"
   ]
  },
  {
   "cell_type": "markdown",
   "metadata": {},
   "source": [
    "#### Normalized MI Heatmap"
   ]
  },
  {
   "cell_type": "code",
   "execution_count": 172,
   "metadata": {
    "ExecuteTime": {
     "end_time": "2018-10-08T13:30:40.794319Z",
     "start_time": "2018-10-08T13:30:40.536987Z"
    }
   },
   "outputs": [
    {
     "data": {
      "image/png": "[encoded data removed]",
      "text/plain": [
       "<Figure size 1080x288 with 2 Axes>"
      ]
     },
     "metadata": {},
     "output_type": "display_data"
    }
   ],
   "source": [
    "fig, ax= plt.subplots(figsize=(15, 4))\n",
    "sns.heatmap(mutual_info.div(mutual_info.sum()).T, ax=ax, cmap='Blues');"
   ]
  },
  {
   "cell_type": "markdown",
   "metadata": {},
   "source": [
    "#### Dummy Data"
   ]
  },
  {
   "cell_type": "code",
   "execution_count": 176,
   "metadata": {
    "ExecuteTime": {
     "end_time": "2018-10-08T13:33:46.593665Z",
     "start_time": "2018-10-08T13:33:45.319321Z"
    }
   },
   "outputs": [],
   "source": [
    "target_labels = [f'target_{i}m' for i in [1, 2, 3, 6, 12]]\n",
    "dummy_targets = dummy_data.dropna().loc[:, target_labels]\n",
    "\n",
    "dummy_features = dummy_data.dropna().drop(target_labels, axis=1)\n",
    "cat_cols = [c for c in dummy_features.columns if c not in features.columns]\n",
    "discrete_features = [dummy_features.columns.get_loc(c) for c in cat_cols]"
   ]
  },
  {
   "cell_type": "code",
   "execution_count": 178,
   "metadata": {
    "ExecuteTime": {
     "end_time": "2018-10-08T13:41:27.482996Z",
     "start_time": "2018-10-08T13:34:17.330357Z"
    }
   },
   "outputs": [],
   "source": [
    "mutual_info_dummies = pd.DataFrame()\n",
    "for label in target_labels:\n",
    "    mi = mutual_info_classif(X=dummy_features, \n",
    "                             y=(dummy_targets[label]> 0).astype(int),\n",
    "                             discrete_features=discrete_features,\n",
    "                             random_state=42\n",
    "                            )    \n",
    "    mutual_info_dummies[label] = pd.Series(mi, index=dummy_features.columns)"
   ]
  },
  {
   "cell_type": "code",
   "execution_count": 179,
   "metadata": {
    "ExecuteTime": {
     "end_time": "2018-10-08T13:41:27.487470Z",
     "start_time": "2018-10-08T13:41:27.484081Z"
    }
   },
   "outputs": [
    {
     "data": {
      "text/plain": [
       "target_1m     0.197985\n",
       "target_2m     0.230910\n",
       "target_3m     0.256673\n",
       "target_6m     0.322516\n",
       "target_12m    0.392777\n",
       "dtype: float64"
      ]
     },
     "execution_count": 179,
     "metadata": {},
     "output_type": "execute_result"
    }
   ],
   "source": [
    "mutual_info_dummies.sum()"
   ]
  },
  {
   "cell_type": "code",
   "execution_count": 188,
   "metadata": {
    "ExecuteTime": {
     "end_time": "2018-10-08T13:46:46.358797Z",
     "start_time": "2018-10-08T13:46:45.417852Z"
    }
   },
   "outputs": [
    {
     "data": {
      "image/png": "[encoded data removed]",
      "text/plain": [
       "<Figure size 288x1440 with 2 Axes>"
      ]
     },
     "metadata": {},
     "output_type": "display_data"
    }
   ],
   "source": [
    "fig, ax= plt.subplots(figsize=(4, 20))\n",
    "sns.heatmap(mutual_info_dummies.div(mutual_info_dummies.sum()), ax=ax, cmap='Blues');"
   ]
  },
  {
   "cell_type": "code",
   "execution_count": null,
   "metadata": {},
   "outputs": [],
   "source": []
  }
 ],
 "metadata": {
  "kernelspec": {
   "display_name": "Python 3",
   "language": "python",
   "name": "python3"
  },
  "language_info": {
   "codemirror_mode": {
    "name": "ipython",
    "version": 3
   },
   "file_extension": ".py",
   "mimetype": "text/x-python",
   "name": "python",
   "nbconvert_exporter": "python",
   "pygments_lexer": "ipython3",
   "version": "3.6.4"
  },
  "toc": {
   "base_numbering": 1,
   "nav_menu": {},
   "number_sections": true,
   "sideBar": true,
   "skip_h1_title": false,
   "title_cell": "Table of Contents",
   "title_sidebar": "Contents",
   "toc_cell": false,
   "toc_position": {},
   "toc_section_display": true,
   "toc_window_display": true
  }
 },
 "nbformat": 4,
 "nbformat_minor": 2
}
